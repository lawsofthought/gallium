{
 "cells": [
  {
   "cell_type": "markdown",
   "metadata": {},
   "source": [
    "# Preprocessing experimental data prior to analysis\n",
    "\n",
    "Download raw data for experiment *Brisbane* and process it to create two data-frames: one for recognition data and one for recall data."
   ]
  },
  {
   "cell_type": "code",
   "execution_count": 1,
   "metadata": {
    "collapsed": false
   },
   "outputs": [],
   "source": [
    "import string\n",
    "from utils import processing, utils\n",
    "import cPickle as pickle"
   ]
  },
  {
   "cell_type": "code",
   "execution_count": 2,
   "metadata": {
    "collapsed": false
   },
   "outputs": [],
   "source": [
    "url_root = 'http://www.lawsofthought.org/shared'\n",
    "\n",
    "cache_directory = '_cache'\n",
    "\n",
    "fake_subject_file = [('fake_subject_uids.txt',\n",
    "                      '04bfa8c11b999b371f24ca907c314d43064e42c23a1e0aa2025c797a4d454b66')]\n",
    "\n",
    "utils.curl(url_root, \n",
    "                 fake_subject_file, \n",
    "                 cache=cache_directory,\n",
    "                 verbose=False)\n",
    "\n",
    "processing.fake_subject_uids = processing.get_fake_subject_uids('_cache/fake_subject_uids.txt')"
   ]
  },
  {
   "cell_type": "code",
   "execution_count": 3,
   "metadata": {
    "collapsed": false
   },
   "outputs": [],
   "source": [
    "data = processing.get_data('https://data.cognitionexperiments.org/06b643a')"
   ]
  },
  {
   "cell_type": "code",
   "execution_count": 4,
   "metadata": {
    "collapsed": false
   },
   "outputs": [],
   "source": [
    "sessions = data['ExperimentVersions'][0]['Sessions']"
   ]
  },
  {
   "cell_type": "code",
   "execution_count": 5,
   "metadata": {
    "collapsed": false,
    "scrolled": true
   },
   "outputs": [],
   "source": [
    "Df = {}\n",
    "Df['recognition'] = processing.get_textrecognition_data(sessions)\n",
    "Df['recall'] = processing.get_textrecall_data(sessions)"
   ]
  },
  {
   "cell_type": "code",
   "execution_count": 6,
   "metadata": {
    "collapsed": false
   },
   "outputs": [
    {
     "data": {
      "text/html": [
       "<div>\n",
       "<table border=\"1\" class=\"dataframe\">\n",
       "  <thead>\n",
       "    <tr style=\"text-align: right;\">\n",
       "      <th></th>\n",
       "      <th>session</th>\n",
       "      <th>subject</th>\n",
       "      <th>age</th>\n",
       "      <th>sex</th>\n",
       "      <th>slide</th>\n",
       "      <th>completed</th>\n",
       "      <th>text</th>\n",
       "      <th>readingtime</th>\n",
       "      <th>word</th>\n",
       "    </tr>\n",
       "  </thead>\n",
       "  <tbody>\n",
       "    <tr>\n",
       "      <th>0</th>\n",
       "      <td>186a069</td>\n",
       "      <td>4ba33f7</td>\n",
       "      <td>29</td>\n",
       "      <td>Male</td>\n",
       "      <td>a961164</td>\n",
       "      <td>True</td>\n",
       "      <td>11</td>\n",
       "      <td>60.165</td>\n",
       "      <td>Apparently</td>\n",
       "    </tr>\n",
       "    <tr>\n",
       "      <th>1</th>\n",
       "      <td>186a069</td>\n",
       "      <td>4ba33f7</td>\n",
       "      <td>29</td>\n",
       "      <td>Male</td>\n",
       "      <td>a961164</td>\n",
       "      <td>True</td>\n",
       "      <td>11</td>\n",
       "      <td>60.165</td>\n",
       "      <td>There</td>\n",
       "    </tr>\n",
       "    <tr>\n",
       "      <th>2</th>\n",
       "      <td>186a069</td>\n",
       "      <td>4ba33f7</td>\n",
       "      <td>29</td>\n",
       "      <td>Male</td>\n",
       "      <td>a961164</td>\n",
       "      <td>True</td>\n",
       "      <td>11</td>\n",
       "      <td>60.165</td>\n",
       "      <td>is</td>\n",
       "    </tr>\n",
       "    <tr>\n",
       "      <th>3</th>\n",
       "      <td>186a069</td>\n",
       "      <td>4ba33f7</td>\n",
       "      <td>29</td>\n",
       "      <td>Male</td>\n",
       "      <td>a961164</td>\n",
       "      <td>True</td>\n",
       "      <td>11</td>\n",
       "      <td>60.165</td>\n",
       "      <td>no</td>\n",
       "    </tr>\n",
       "    <tr>\n",
       "      <th>4</th>\n",
       "      <td>186a069</td>\n",
       "      <td>4ba33f7</td>\n",
       "      <td>29</td>\n",
       "      <td>Male</td>\n",
       "      <td>a961164</td>\n",
       "      <td>True</td>\n",
       "      <td>11</td>\n",
       "      <td>60.165</td>\n",
       "      <td>case</td>\n",
       "    </tr>\n",
       "  </tbody>\n",
       "</table>\n",
       "</div>"
      ],
      "text/plain": [
       "   session  subject  age   sex    slide completed  text  readingtime  \\\n",
       "0  186a069  4ba33f7   29  Male  a961164      True    11       60.165   \n",
       "1  186a069  4ba33f7   29  Male  a961164      True    11       60.165   \n",
       "2  186a069  4ba33f7   29  Male  a961164      True    11       60.165   \n",
       "3  186a069  4ba33f7   29  Male  a961164      True    11       60.165   \n",
       "4  186a069  4ba33f7   29  Male  a961164      True    11       60.165   \n",
       "\n",
       "         word  \n",
       "0  Apparently  \n",
       "1       There  \n",
       "2          is  \n",
       "3          no  \n",
       "4        case  "
      ]
     },
     "execution_count": 6,
     "metadata": {},
     "output_type": "execute_result"
    }
   ],
   "source": [
    "Df['recall'].head()"
   ]
  },
  {
   "cell_type": "code",
   "execution_count": 7,
   "metadata": {
    "collapsed": false
   },
   "outputs": [
    {
     "data": {
      "text/html": [
       "<div>\n",
       "<table border=\"1\" class=\"dataframe\">\n",
       "  <thead>\n",
       "    <tr style=\"text-align: right;\">\n",
       "      <th></th>\n",
       "      <th>session</th>\n",
       "      <th>subject</th>\n",
       "      <th>age</th>\n",
       "      <th>sex</th>\n",
       "      <th>slide</th>\n",
       "      <th>completed</th>\n",
       "      <th>text</th>\n",
       "      <th>readingtime</th>\n",
       "      <th>word</th>\n",
       "      <th>expected</th>\n",
       "      <th>order</th>\n",
       "      <th>hit</th>\n",
       "      <th>response</th>\n",
       "      <th>correct</th>\n",
       "      <th>rt</th>\n",
       "    </tr>\n",
       "  </thead>\n",
       "  <tbody>\n",
       "    <tr>\n",
       "      <th>0</th>\n",
       "      <td>186a069</td>\n",
       "      <td>4ba33f7</td>\n",
       "      <td>29</td>\n",
       "      <td>Male</td>\n",
       "      <td>09e0182</td>\n",
       "      <td>True</td>\n",
       "      <td>45</td>\n",
       "      <td>62.805</td>\n",
       "      <td>purple</td>\n",
       "      <td>True</td>\n",
       "      <td>0</td>\n",
       "      <td>True</td>\n",
       "      <td>True</td>\n",
       "      <td>True</td>\n",
       "      <td>1.002</td>\n",
       "    </tr>\n",
       "    <tr>\n",
       "      <th>1</th>\n",
       "      <td>186a069</td>\n",
       "      <td>4ba33f7</td>\n",
       "      <td>29</td>\n",
       "      <td>Male</td>\n",
       "      <td>09e0182</td>\n",
       "      <td>True</td>\n",
       "      <td>45</td>\n",
       "      <td>62.805</td>\n",
       "      <td>tastefully</td>\n",
       "      <td>False</td>\n",
       "      <td>1</td>\n",
       "      <td>True</td>\n",
       "      <td>False</td>\n",
       "      <td>True</td>\n",
       "      <td>0.917</td>\n",
       "    </tr>\n",
       "    <tr>\n",
       "      <th>2</th>\n",
       "      <td>186a069</td>\n",
       "      <td>4ba33f7</td>\n",
       "      <td>29</td>\n",
       "      <td>Male</td>\n",
       "      <td>09e0182</td>\n",
       "      <td>True</td>\n",
       "      <td>45</td>\n",
       "      <td>62.805</td>\n",
       "      <td>cataract</td>\n",
       "      <td>True</td>\n",
       "      <td>2</td>\n",
       "      <td>True</td>\n",
       "      <td>True</td>\n",
       "      <td>True</td>\n",
       "      <td>1.199</td>\n",
       "    </tr>\n",
       "    <tr>\n",
       "      <th>3</th>\n",
       "      <td>186a069</td>\n",
       "      <td>4ba33f7</td>\n",
       "      <td>29</td>\n",
       "      <td>Male</td>\n",
       "      <td>09e0182</td>\n",
       "      <td>True</td>\n",
       "      <td>45</td>\n",
       "      <td>62.805</td>\n",
       "      <td>sack</td>\n",
       "      <td>True</td>\n",
       "      <td>3</td>\n",
       "      <td>True</td>\n",
       "      <td>True</td>\n",
       "      <td>True</td>\n",
       "      <td>0.710</td>\n",
       "    </tr>\n",
       "    <tr>\n",
       "      <th>4</th>\n",
       "      <td>186a069</td>\n",
       "      <td>4ba33f7</td>\n",
       "      <td>29</td>\n",
       "      <td>Male</td>\n",
       "      <td>09e0182</td>\n",
       "      <td>True</td>\n",
       "      <td>45</td>\n",
       "      <td>62.805</td>\n",
       "      <td>relic</td>\n",
       "      <td>False</td>\n",
       "      <td>4</td>\n",
       "      <td>True</td>\n",
       "      <td>False</td>\n",
       "      <td>True</td>\n",
       "      <td>1.040</td>\n",
       "    </tr>\n",
       "  </tbody>\n",
       "</table>\n",
       "</div>"
      ],
      "text/plain": [
       "   session  subject  age   sex    slide completed  text  readingtime  \\\n",
       "0  186a069  4ba33f7   29  Male  09e0182      True    45       62.805   \n",
       "1  186a069  4ba33f7   29  Male  09e0182      True    45       62.805   \n",
       "2  186a069  4ba33f7   29  Male  09e0182      True    45       62.805   \n",
       "3  186a069  4ba33f7   29  Male  09e0182      True    45       62.805   \n",
       "4  186a069  4ba33f7   29  Male  09e0182      True    45       62.805   \n",
       "\n",
       "         word expected  order   hit response correct     rt  \n",
       "0      purple     True      0  True     True    True  1.002  \n",
       "1  tastefully    False      1  True    False    True  0.917  \n",
       "2    cataract     True      2  True     True    True  1.199  \n",
       "3        sack     True      3  True     True    True  0.710  \n",
       "4       relic    False      4  True    False    True  1.040  "
      ]
     },
     "execution_count": 7,
     "metadata": {},
     "output_type": "execute_result"
    }
   ],
   "source": [
    "Df['recognition'].head()"
   ]
  },
  {
   "cell_type": "markdown",
   "metadata": {},
   "source": [
    "## Process the recognition data"
   ]
  },
  {
   "cell_type": "code",
   "execution_count": 8,
   "metadata": {
    "collapsed": false
   },
   "outputs": [],
   "source": [
    "Df['recognition'] = Df['recognition'].query('hit == True')\n",
    "\n",
    "assert Df['recognition'][['expected', 'response', 'correct']].apply(lambda row: (row[0] == row[1]) == row[2], 1).all()\n",
    "\n",
    "Df['recognition']['stimulus'] = Df['recognition'][['text', 'word']].apply(lambda x: str(x[0]) + '-' + x[1], axis=1)\n",
    "\n",
    "Df['recognition']\\\n",
    "= Df['recognition'][['subject', 'slide', 'stimulus', 'text', 'word', 'expected', 'response', 'correct', 'rt']]"
   ]
  },
  {
   "cell_type": "code",
   "execution_count": 9,
   "metadata": {
    "collapsed": false
   },
   "outputs": [
    {
     "data": {
      "text/html": [
       "<div>\n",
       "<table border=\"1\" class=\"dataframe\">\n",
       "  <thead>\n",
       "    <tr style=\"text-align: right;\">\n",
       "      <th></th>\n",
       "      <th>subject</th>\n",
       "      <th>slide</th>\n",
       "      <th>stimulus</th>\n",
       "      <th>text</th>\n",
       "      <th>word</th>\n",
       "      <th>expected</th>\n",
       "      <th>response</th>\n",
       "      <th>correct</th>\n",
       "      <th>rt</th>\n",
       "    </tr>\n",
       "  </thead>\n",
       "  <tbody>\n",
       "    <tr>\n",
       "      <th>0</th>\n",
       "      <td>4ba33f7</td>\n",
       "      <td>09e0182</td>\n",
       "      <td>45-purple</td>\n",
       "      <td>45</td>\n",
       "      <td>purple</td>\n",
       "      <td>True</td>\n",
       "      <td>True</td>\n",
       "      <td>True</td>\n",
       "      <td>1.002</td>\n",
       "    </tr>\n",
       "    <tr>\n",
       "      <th>1</th>\n",
       "      <td>4ba33f7</td>\n",
       "      <td>09e0182</td>\n",
       "      <td>45-tastefully</td>\n",
       "      <td>45</td>\n",
       "      <td>tastefully</td>\n",
       "      <td>False</td>\n",
       "      <td>False</td>\n",
       "      <td>True</td>\n",
       "      <td>0.917</td>\n",
       "    </tr>\n",
       "    <tr>\n",
       "      <th>2</th>\n",
       "      <td>4ba33f7</td>\n",
       "      <td>09e0182</td>\n",
       "      <td>45-cataract</td>\n",
       "      <td>45</td>\n",
       "      <td>cataract</td>\n",
       "      <td>True</td>\n",
       "      <td>True</td>\n",
       "      <td>True</td>\n",
       "      <td>1.199</td>\n",
       "    </tr>\n",
       "    <tr>\n",
       "      <th>3</th>\n",
       "      <td>4ba33f7</td>\n",
       "      <td>09e0182</td>\n",
       "      <td>45-sack</td>\n",
       "      <td>45</td>\n",
       "      <td>sack</td>\n",
       "      <td>True</td>\n",
       "      <td>True</td>\n",
       "      <td>True</td>\n",
       "      <td>0.710</td>\n",
       "    </tr>\n",
       "    <tr>\n",
       "      <th>4</th>\n",
       "      <td>4ba33f7</td>\n",
       "      <td>09e0182</td>\n",
       "      <td>45-relic</td>\n",
       "      <td>45</td>\n",
       "      <td>relic</td>\n",
       "      <td>False</td>\n",
       "      <td>False</td>\n",
       "      <td>True</td>\n",
       "      <td>1.040</td>\n",
       "    </tr>\n",
       "  </tbody>\n",
       "</table>\n",
       "</div>"
      ],
      "text/plain": [
       "   subject    slide       stimulus  text        word expected response  \\\n",
       "0  4ba33f7  09e0182      45-purple    45      purple     True     True   \n",
       "1  4ba33f7  09e0182  45-tastefully    45  tastefully    False    False   \n",
       "2  4ba33f7  09e0182    45-cataract    45    cataract     True     True   \n",
       "3  4ba33f7  09e0182        45-sack    45        sack     True     True   \n",
       "4  4ba33f7  09e0182       45-relic    45       relic    False    False   \n",
       "\n",
       "  correct     rt  \n",
       "0    True  1.002  \n",
       "1    True  0.917  \n",
       "2    True  1.199  \n",
       "3    True  0.710  \n",
       "4    True  1.040  "
      ]
     },
     "execution_count": 9,
     "metadata": {},
     "output_type": "execute_result"
    }
   ],
   "source": [
    "Df['recognition'].head()"
   ]
  },
  {
   "cell_type": "code",
   "execution_count": 10,
   "metadata": {
    "collapsed": true
   },
   "outputs": [],
   "source": [
    "Df['recognition'].to_pickle('_cache/brisbane_06b643a_recognition_results.pkl')"
   ]
  },
  {
   "cell_type": "markdown",
   "metadata": {},
   "source": [
    "## Process the recall data"
   ]
  },
  {
   "cell_type": "code",
   "execution_count": 11,
   "metadata": {
    "collapsed": false
   },
   "outputs": [
    {
     "data": {
      "text/html": [
       "<div>\n",
       "<table border=\"1\" class=\"dataframe\">\n",
       "  <thead>\n",
       "    <tr style=\"text-align: right;\">\n",
       "      <th></th>\n",
       "      <th>session</th>\n",
       "      <th>subject</th>\n",
       "      <th>age</th>\n",
       "      <th>sex</th>\n",
       "      <th>slide</th>\n",
       "      <th>completed</th>\n",
       "      <th>text</th>\n",
       "      <th>readingtime</th>\n",
       "      <th>word</th>\n",
       "    </tr>\n",
       "  </thead>\n",
       "  <tbody>\n",
       "    <tr>\n",
       "      <th>0</th>\n",
       "      <td>186a069</td>\n",
       "      <td>4ba33f7</td>\n",
       "      <td>29</td>\n",
       "      <td>Male</td>\n",
       "      <td>a961164</td>\n",
       "      <td>True</td>\n",
       "      <td>11</td>\n",
       "      <td>60.165</td>\n",
       "      <td>Apparently</td>\n",
       "    </tr>\n",
       "    <tr>\n",
       "      <th>1</th>\n",
       "      <td>186a069</td>\n",
       "      <td>4ba33f7</td>\n",
       "      <td>29</td>\n",
       "      <td>Male</td>\n",
       "      <td>a961164</td>\n",
       "      <td>True</td>\n",
       "      <td>11</td>\n",
       "      <td>60.165</td>\n",
       "      <td>There</td>\n",
       "    </tr>\n",
       "    <tr>\n",
       "      <th>2</th>\n",
       "      <td>186a069</td>\n",
       "      <td>4ba33f7</td>\n",
       "      <td>29</td>\n",
       "      <td>Male</td>\n",
       "      <td>a961164</td>\n",
       "      <td>True</td>\n",
       "      <td>11</td>\n",
       "      <td>60.165</td>\n",
       "      <td>is</td>\n",
       "    </tr>\n",
       "    <tr>\n",
       "      <th>3</th>\n",
       "      <td>186a069</td>\n",
       "      <td>4ba33f7</td>\n",
       "      <td>29</td>\n",
       "      <td>Male</td>\n",
       "      <td>a961164</td>\n",
       "      <td>True</td>\n",
       "      <td>11</td>\n",
       "      <td>60.165</td>\n",
       "      <td>no</td>\n",
       "    </tr>\n",
       "    <tr>\n",
       "      <th>4</th>\n",
       "      <td>186a069</td>\n",
       "      <td>4ba33f7</td>\n",
       "      <td>29</td>\n",
       "      <td>Male</td>\n",
       "      <td>a961164</td>\n",
       "      <td>True</td>\n",
       "      <td>11</td>\n",
       "      <td>60.165</td>\n",
       "      <td>case</td>\n",
       "    </tr>\n",
       "  </tbody>\n",
       "</table>\n",
       "</div>"
      ],
      "text/plain": [
       "   session  subject  age   sex    slide completed  text  readingtime  \\\n",
       "0  186a069  4ba33f7   29  Male  a961164      True    11       60.165   \n",
       "1  186a069  4ba33f7   29  Male  a961164      True    11       60.165   \n",
       "2  186a069  4ba33f7   29  Male  a961164      True    11       60.165   \n",
       "3  186a069  4ba33f7   29  Male  a961164      True    11       60.165   \n",
       "4  186a069  4ba33f7   29  Male  a961164      True    11       60.165   \n",
       "\n",
       "         word  \n",
       "0  Apparently  \n",
       "1       There  \n",
       "2          is  \n",
       "3          no  \n",
       "4        case  "
      ]
     },
     "execution_count": 11,
     "metadata": {},
     "output_type": "execute_result"
    }
   ],
   "source": [
    "Df['recall'].head()"
   ]
  },
  {
   "cell_type": "code",
   "execution_count": 12,
   "metadata": {
    "collapsed": false
   },
   "outputs": [],
   "source": [
    "Df['recall']['word'] = map(string.lower, Df['recall']['word'])\n",
    "\n",
    "Df['recall'] = Df['recall'][['session', 'subject', 'slide', 'text', 'word']]"
   ]
  },
  {
   "cell_type": "code",
   "execution_count": 13,
   "metadata": {
    "collapsed": false
   },
   "outputs": [
    {
     "data": {
      "text/html": [
       "<div>\n",
       "<table border=\"1\" class=\"dataframe\">\n",
       "  <thead>\n",
       "    <tr style=\"text-align: right;\">\n",
       "      <th></th>\n",
       "      <th>session</th>\n",
       "      <th>subject</th>\n",
       "      <th>slide</th>\n",
       "      <th>text</th>\n",
       "      <th>word</th>\n",
       "    </tr>\n",
       "  </thead>\n",
       "  <tbody>\n",
       "    <tr>\n",
       "      <th>0</th>\n",
       "      <td>186a069</td>\n",
       "      <td>4ba33f7</td>\n",
       "      <td>a961164</td>\n",
       "      <td>11</td>\n",
       "      <td>apparently</td>\n",
       "    </tr>\n",
       "    <tr>\n",
       "      <th>1</th>\n",
       "      <td>186a069</td>\n",
       "      <td>4ba33f7</td>\n",
       "      <td>a961164</td>\n",
       "      <td>11</td>\n",
       "      <td>there</td>\n",
       "    </tr>\n",
       "    <tr>\n",
       "      <th>2</th>\n",
       "      <td>186a069</td>\n",
       "      <td>4ba33f7</td>\n",
       "      <td>a961164</td>\n",
       "      <td>11</td>\n",
       "      <td>is</td>\n",
       "    </tr>\n",
       "    <tr>\n",
       "      <th>3</th>\n",
       "      <td>186a069</td>\n",
       "      <td>4ba33f7</td>\n",
       "      <td>a961164</td>\n",
       "      <td>11</td>\n",
       "      <td>no</td>\n",
       "    </tr>\n",
       "    <tr>\n",
       "      <th>4</th>\n",
       "      <td>186a069</td>\n",
       "      <td>4ba33f7</td>\n",
       "      <td>a961164</td>\n",
       "      <td>11</td>\n",
       "      <td>case</td>\n",
       "    </tr>\n",
       "  </tbody>\n",
       "</table>\n",
       "</div>"
      ],
      "text/plain": [
       "   session  subject    slide  text        word\n",
       "0  186a069  4ba33f7  a961164    11  apparently\n",
       "1  186a069  4ba33f7  a961164    11       there\n",
       "2  186a069  4ba33f7  a961164    11          is\n",
       "3  186a069  4ba33f7  a961164    11          no\n",
       "4  186a069  4ba33f7  a961164    11        case"
      ]
     },
     "execution_count": 13,
     "metadata": {},
     "output_type": "execute_result"
    }
   ],
   "source": [
    "Df['recall'].head()"
   ]
  },
  {
   "cell_type": "code",
   "execution_count": 14,
   "metadata": {
    "collapsed": true
   },
   "outputs": [],
   "source": [
    "Df['recall'].to_pickle('_cache/brisbane_06b643a_recall_results.pkl')"
   ]
  }
 ],
 "metadata": {
  "kernelspec": {
   "display_name": "Python 2",
   "language": "python",
   "name": "python2"
  },
  "language_info": {
   "codemirror_mode": {
    "name": "ipython",
    "version": 2
   },
   "file_extension": ".py",
   "mimetype": "text/x-python",
   "name": "python",
   "nbconvert_exporter": "python",
   "pygments_lexer": "ipython2",
   "version": "2.7.13"
  }
 },
 "nbformat": 4,
 "nbformat_minor": 1
}
