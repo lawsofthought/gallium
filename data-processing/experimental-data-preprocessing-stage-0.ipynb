{
 "cells": [
  {
   "cell_type": "markdown",
   "metadata": {},
   "source": [
    "# Experimental data preprocessing - first stage\n",
    "\n",
    "Download raw data for experiment *Brisbane* and process it to create two data-frames: one for recognition data and one for recall data. We also verify the integrity of the data files, primarily for the purposes of reproducibility. \n",
    "\n",
    "The downloading, processing, and saving should take just a matter of seconds. "
   ]
  },
  {
   "cell_type": "code",
   "execution_count": 1,
   "metadata": {
    "collapsed": false
   },
   "outputs": [],
   "source": [
    "# Standard library imports\n",
    "import os\n",
    "import string\n",
    "import cPickle as pickle\n",
    "\n",
    "# Local imports \n",
    "from utils import processing, utils, topicmodels"
   ]
  },
  {
   "cell_type": "markdown",
   "metadata": {},
   "source": [
    "Set location of the cache directory."
   ]
  },
  {
   "cell_type": "code",
   "execution_count": 2,
   "metadata": {
    "collapsed": true
   },
   "outputs": [],
   "source": [
    "cache_directory = '../cache'\n",
    "cache_fullpath = lambda path: os.path.join(cache_directory, path)"
   ]
  },
  {
   "cell_type": "markdown",
   "metadata": {},
   "source": [
    "Verify that two key files are in the cache."
   ]
  },
  {
   "cell_type": "code",
   "execution_count": 3,
   "metadata": {
    "collapsed": true
   },
   "outputs": [],
   "source": [
    "filenames = {\n",
    "    'experiment_cfg' : [('Brismo.cfg',\n",
    "                         '909d9f8de483c4547f26fb4c34b91e12908ab5c144e065dc0fe6c1504b1f22c9')],\n",
    "    'fake_subject_file' : [('fake_subject_uids.txt',\n",
    "                            '04bfa8c11b999b371f24ca907c314d43064e42c23a1e0aa2025c797a4d454b66')]\n",
    "}\n",
    "\n",
    "utils.verify_cache_files(filenames['experiment_cfg'] + filenames['fake_subject_file'],\n",
    "                         cache=cache_directory,\n",
    "                         verbose=False)"
   ]
  },
  {
   "cell_type": "markdown",
   "metadata": {},
   "source": [
    "Set the list of fake subject uids. Remember that so-called \"fake subjects\" are just experimental subject accounts that were set up for testing the experiment website. In other words, these are test accounts used in either automatic or manual testing of the system. Removing these is not removing real subjects. "
   ]
  },
  {
   "cell_type": "code",
   "execution_count": 4,
   "metadata": {
    "collapsed": false
   },
   "outputs": [],
   "source": [
    "processing.fake_subject_uids = processing.get_fake_subject_uids(cache_fullpath('fake_subject_uids.txt'))"
   ]
  },
  {
   "cell_type": "markdown",
   "metadata": {},
   "source": [
    "Obtain the experimental data from the permanent and world readable URL. We could cache this data, but obtaining it in this way ensures that we check that the raw data is always publicly available."
   ]
  },
  {
   "cell_type": "code",
   "execution_count": 5,
   "metadata": {
    "collapsed": false
   },
   "outputs": [],
   "source": [
    "data = processing.get_data('https://data.cognitionexperiments.org/06b643a')"
   ]
  },
  {
   "cell_type": "markdown",
   "metadata": {},
   "source": [
    "Extract out all the experiment sessions."
   ]
  },
  {
   "cell_type": "code",
   "execution_count": 6,
   "metadata": {
    "collapsed": false
   },
   "outputs": [],
   "source": [
    "sessions = data['ExperimentVersions'][0]['Sessions']"
   ]
  },
  {
   "cell_type": "markdown",
   "metadata": {},
   "source": [
    "Parse and process both the recognition data and the recall data, and then take a look at both. Note that the seed below is used to assign a unique random id to each slide. "
   ]
  },
  {
   "cell_type": "code",
   "execution_count": 7,
   "metadata": {
    "collapsed": false,
    "scrolled": true
   },
   "outputs": [],
   "source": [
    "Df = {}\n",
    "Df['recognition'] = processing.get_textrecognition_data(sessions, seed=4244)\n",
    "Df['recall'] = processing.get_textrecall_data(sessions, seed=4312)"
   ]
  },
  {
   "cell_type": "code",
   "execution_count": 8,
   "metadata": {
    "collapsed": false
   },
   "outputs": [
    {
     "data": {
      "text/html": [
       "<div>\n",
       "<table border=\"1\" class=\"dataframe\">\n",
       "  <thead>\n",
       "    <tr style=\"text-align: right;\">\n",
       "      <th></th>\n",
       "      <th>session</th>\n",
       "      <th>subject</th>\n",
       "      <th>age</th>\n",
       "      <th>sex</th>\n",
       "      <th>slide</th>\n",
       "      <th>completed</th>\n",
       "      <th>text</th>\n",
       "      <th>readingtime</th>\n",
       "      <th>word</th>\n",
       "    </tr>\n",
       "  </thead>\n",
       "  <tbody>\n",
       "    <tr>\n",
       "      <th>0</th>\n",
       "      <td>186a069</td>\n",
       "      <td>4ba33f7</td>\n",
       "      <td>29</td>\n",
       "      <td>Male</td>\n",
       "      <td>96a7502</td>\n",
       "      <td>True</td>\n",
       "      <td>11</td>\n",
       "      <td>60.165</td>\n",
       "      <td>Apparently</td>\n",
       "    </tr>\n",
       "    <tr>\n",
       "      <th>1</th>\n",
       "      <td>186a069</td>\n",
       "      <td>4ba33f7</td>\n",
       "      <td>29</td>\n",
       "      <td>Male</td>\n",
       "      <td>96a7502</td>\n",
       "      <td>True</td>\n",
       "      <td>11</td>\n",
       "      <td>60.165</td>\n",
       "      <td>There</td>\n",
       "    </tr>\n",
       "    <tr>\n",
       "      <th>2</th>\n",
       "      <td>186a069</td>\n",
       "      <td>4ba33f7</td>\n",
       "      <td>29</td>\n",
       "      <td>Male</td>\n",
       "      <td>96a7502</td>\n",
       "      <td>True</td>\n",
       "      <td>11</td>\n",
       "      <td>60.165</td>\n",
       "      <td>is</td>\n",
       "    </tr>\n",
       "    <tr>\n",
       "      <th>3</th>\n",
       "      <td>186a069</td>\n",
       "      <td>4ba33f7</td>\n",
       "      <td>29</td>\n",
       "      <td>Male</td>\n",
       "      <td>96a7502</td>\n",
       "      <td>True</td>\n",
       "      <td>11</td>\n",
       "      <td>60.165</td>\n",
       "      <td>no</td>\n",
       "    </tr>\n",
       "    <tr>\n",
       "      <th>4</th>\n",
       "      <td>186a069</td>\n",
       "      <td>4ba33f7</td>\n",
       "      <td>29</td>\n",
       "      <td>Male</td>\n",
       "      <td>96a7502</td>\n",
       "      <td>True</td>\n",
       "      <td>11</td>\n",
       "      <td>60.165</td>\n",
       "      <td>case</td>\n",
       "    </tr>\n",
       "  </tbody>\n",
       "</table>\n",
       "</div>"
      ],
      "text/plain": [
       "   session  subject  age   sex    slide completed  text  readingtime  \\\n",
       "0  186a069  4ba33f7   29  Male  96a7502      True    11       60.165   \n",
       "1  186a069  4ba33f7   29  Male  96a7502      True    11       60.165   \n",
       "2  186a069  4ba33f7   29  Male  96a7502      True    11       60.165   \n",
       "3  186a069  4ba33f7   29  Male  96a7502      True    11       60.165   \n",
       "4  186a069  4ba33f7   29  Male  96a7502      True    11       60.165   \n",
       "\n",
       "         word  \n",
       "0  Apparently  \n",
       "1       There  \n",
       "2          is  \n",
       "3          no  \n",
       "4        case  "
      ]
     },
     "execution_count": 8,
     "metadata": {},
     "output_type": "execute_result"
    }
   ],
   "source": [
    "Df['recall'].head()"
   ]
  },
  {
   "cell_type": "code",
   "execution_count": 9,
   "metadata": {
    "collapsed": false
   },
   "outputs": [
    {
     "data": {
      "text/html": [
       "<div>\n",
       "<table border=\"1\" class=\"dataframe\">\n",
       "  <thead>\n",
       "    <tr style=\"text-align: right;\">\n",
       "      <th></th>\n",
       "      <th>session</th>\n",
       "      <th>subject</th>\n",
       "      <th>age</th>\n",
       "      <th>sex</th>\n",
       "      <th>slide</th>\n",
       "      <th>completed</th>\n",
       "      <th>text</th>\n",
       "      <th>readingtime</th>\n",
       "      <th>word</th>\n",
       "      <th>expected</th>\n",
       "      <th>order</th>\n",
       "      <th>hit</th>\n",
       "      <th>response</th>\n",
       "      <th>correct</th>\n",
       "      <th>rt</th>\n",
       "    </tr>\n",
       "  </thead>\n",
       "  <tbody>\n",
       "    <tr>\n",
       "      <th>0</th>\n",
       "      <td>186a069</td>\n",
       "      <td>4ba33f7</td>\n",
       "      <td>29</td>\n",
       "      <td>Male</td>\n",
       "      <td>d69884d</td>\n",
       "      <td>True</td>\n",
       "      <td>45</td>\n",
       "      <td>62.805</td>\n",
       "      <td>purple</td>\n",
       "      <td>True</td>\n",
       "      <td>0</td>\n",
       "      <td>True</td>\n",
       "      <td>True</td>\n",
       "      <td>True</td>\n",
       "      <td>1.002</td>\n",
       "    </tr>\n",
       "    <tr>\n",
       "      <th>1</th>\n",
       "      <td>186a069</td>\n",
       "      <td>4ba33f7</td>\n",
       "      <td>29</td>\n",
       "      <td>Male</td>\n",
       "      <td>d69884d</td>\n",
       "      <td>True</td>\n",
       "      <td>45</td>\n",
       "      <td>62.805</td>\n",
       "      <td>tastefully</td>\n",
       "      <td>False</td>\n",
       "      <td>1</td>\n",
       "      <td>True</td>\n",
       "      <td>False</td>\n",
       "      <td>True</td>\n",
       "      <td>0.917</td>\n",
       "    </tr>\n",
       "    <tr>\n",
       "      <th>2</th>\n",
       "      <td>186a069</td>\n",
       "      <td>4ba33f7</td>\n",
       "      <td>29</td>\n",
       "      <td>Male</td>\n",
       "      <td>d69884d</td>\n",
       "      <td>True</td>\n",
       "      <td>45</td>\n",
       "      <td>62.805</td>\n",
       "      <td>cataract</td>\n",
       "      <td>True</td>\n",
       "      <td>2</td>\n",
       "      <td>True</td>\n",
       "      <td>True</td>\n",
       "      <td>True</td>\n",
       "      <td>1.199</td>\n",
       "    </tr>\n",
       "    <tr>\n",
       "      <th>3</th>\n",
       "      <td>186a069</td>\n",
       "      <td>4ba33f7</td>\n",
       "      <td>29</td>\n",
       "      <td>Male</td>\n",
       "      <td>d69884d</td>\n",
       "      <td>True</td>\n",
       "      <td>45</td>\n",
       "      <td>62.805</td>\n",
       "      <td>sack</td>\n",
       "      <td>True</td>\n",
       "      <td>3</td>\n",
       "      <td>True</td>\n",
       "      <td>True</td>\n",
       "      <td>True</td>\n",
       "      <td>0.710</td>\n",
       "    </tr>\n",
       "    <tr>\n",
       "      <th>4</th>\n",
       "      <td>186a069</td>\n",
       "      <td>4ba33f7</td>\n",
       "      <td>29</td>\n",
       "      <td>Male</td>\n",
       "      <td>d69884d</td>\n",
       "      <td>True</td>\n",
       "      <td>45</td>\n",
       "      <td>62.805</td>\n",
       "      <td>relic</td>\n",
       "      <td>False</td>\n",
       "      <td>4</td>\n",
       "      <td>True</td>\n",
       "      <td>False</td>\n",
       "      <td>True</td>\n",
       "      <td>1.040</td>\n",
       "    </tr>\n",
       "  </tbody>\n",
       "</table>\n",
       "</div>"
      ],
      "text/plain": [
       "   session  subject  age   sex    slide completed  text  readingtime  \\\n",
       "0  186a069  4ba33f7   29  Male  d69884d      True    45       62.805   \n",
       "1  186a069  4ba33f7   29  Male  d69884d      True    45       62.805   \n",
       "2  186a069  4ba33f7   29  Male  d69884d      True    45       62.805   \n",
       "3  186a069  4ba33f7   29  Male  d69884d      True    45       62.805   \n",
       "4  186a069  4ba33f7   29  Male  d69884d      True    45       62.805   \n",
       "\n",
       "         word expected  order   hit response correct     rt  \n",
       "0      purple     True      0  True     True    True  1.002  \n",
       "1  tastefully    False      1  True    False    True  0.917  \n",
       "2    cataract     True      2  True     True    True  1.199  \n",
       "3        sack     True      3  True     True    True  0.710  \n",
       "4       relic    False      4  True    False    True  1.040  "
      ]
     },
     "execution_count": 9,
     "metadata": {},
     "output_type": "execute_result"
    }
   ],
   "source": [
    "Df['recognition'].head()"
   ]
  },
  {
   "cell_type": "markdown",
   "metadata": {},
   "source": [
    "## Process the recognition data\n",
    "\n",
    "* Filter out all the misses. A \"miss\" is where the no recognition response was made within the permitted time interval.\n",
    "* Verify that *correct* variable agrees with what the *expected* and actual responses were.\n",
    "* Create a new variable that uniquely identifies each \"stimulus\" as the text-word combination. For example, *45-purple* is a unique stimulus, and is the word *purple* in text 50."
   ]
  },
  {
   "cell_type": "code",
   "execution_count": 10,
   "metadata": {
    "collapsed": false
   },
   "outputs": [],
   "source": [
    "Df['recognition'] = Df['recognition'].query('hit == True')\n",
    "\n",
    "assert Df['recognition'][['expected', 'response', 'correct']].apply(lambda row: (row[0] == row[1]) == row[2], 1).all()\n",
    "\n",
    "Df['recognition']['stimulus'] = Df['recognition'][['text', 'word']].apply(lambda x: str(x[0]) + '-' + x[1], axis=1)"
   ]
  },
  {
   "cell_type": "code",
   "execution_count": 11,
   "metadata": {
    "collapsed": false
   },
   "outputs": [
    {
     "data": {
      "text/html": [
       "<div>\n",
       "<table border=\"1\" class=\"dataframe\">\n",
       "  <thead>\n",
       "    <tr style=\"text-align: right;\">\n",
       "      <th></th>\n",
       "      <th>session</th>\n",
       "      <th>subject</th>\n",
       "      <th>age</th>\n",
       "      <th>sex</th>\n",
       "      <th>slide</th>\n",
       "      <th>completed</th>\n",
       "      <th>text</th>\n",
       "      <th>readingtime</th>\n",
       "      <th>word</th>\n",
       "      <th>expected</th>\n",
       "      <th>order</th>\n",
       "      <th>hit</th>\n",
       "      <th>response</th>\n",
       "      <th>correct</th>\n",
       "      <th>rt</th>\n",
       "      <th>stimulus</th>\n",
       "    </tr>\n",
       "  </thead>\n",
       "  <tbody>\n",
       "    <tr>\n",
       "      <th>0</th>\n",
       "      <td>186a069</td>\n",
       "      <td>4ba33f7</td>\n",
       "      <td>29</td>\n",
       "      <td>Male</td>\n",
       "      <td>d69884d</td>\n",
       "      <td>True</td>\n",
       "      <td>45</td>\n",
       "      <td>62.805</td>\n",
       "      <td>purple</td>\n",
       "      <td>True</td>\n",
       "      <td>0</td>\n",
       "      <td>True</td>\n",
       "      <td>True</td>\n",
       "      <td>True</td>\n",
       "      <td>1.002</td>\n",
       "      <td>45-purple</td>\n",
       "    </tr>\n",
       "    <tr>\n",
       "      <th>1</th>\n",
       "      <td>186a069</td>\n",
       "      <td>4ba33f7</td>\n",
       "      <td>29</td>\n",
       "      <td>Male</td>\n",
       "      <td>d69884d</td>\n",
       "      <td>True</td>\n",
       "      <td>45</td>\n",
       "      <td>62.805</td>\n",
       "      <td>tastefully</td>\n",
       "      <td>False</td>\n",
       "      <td>1</td>\n",
       "      <td>True</td>\n",
       "      <td>False</td>\n",
       "      <td>True</td>\n",
       "      <td>0.917</td>\n",
       "      <td>45-tastefully</td>\n",
       "    </tr>\n",
       "    <tr>\n",
       "      <th>2</th>\n",
       "      <td>186a069</td>\n",
       "      <td>4ba33f7</td>\n",
       "      <td>29</td>\n",
       "      <td>Male</td>\n",
       "      <td>d69884d</td>\n",
       "      <td>True</td>\n",
       "      <td>45</td>\n",
       "      <td>62.805</td>\n",
       "      <td>cataract</td>\n",
       "      <td>True</td>\n",
       "      <td>2</td>\n",
       "      <td>True</td>\n",
       "      <td>True</td>\n",
       "      <td>True</td>\n",
       "      <td>1.199</td>\n",
       "      <td>45-cataract</td>\n",
       "    </tr>\n",
       "    <tr>\n",
       "      <th>3</th>\n",
       "      <td>186a069</td>\n",
       "      <td>4ba33f7</td>\n",
       "      <td>29</td>\n",
       "      <td>Male</td>\n",
       "      <td>d69884d</td>\n",
       "      <td>True</td>\n",
       "      <td>45</td>\n",
       "      <td>62.805</td>\n",
       "      <td>sack</td>\n",
       "      <td>True</td>\n",
       "      <td>3</td>\n",
       "      <td>True</td>\n",
       "      <td>True</td>\n",
       "      <td>True</td>\n",
       "      <td>0.710</td>\n",
       "      <td>45-sack</td>\n",
       "    </tr>\n",
       "    <tr>\n",
       "      <th>4</th>\n",
       "      <td>186a069</td>\n",
       "      <td>4ba33f7</td>\n",
       "      <td>29</td>\n",
       "      <td>Male</td>\n",
       "      <td>d69884d</td>\n",
       "      <td>True</td>\n",
       "      <td>45</td>\n",
       "      <td>62.805</td>\n",
       "      <td>relic</td>\n",
       "      <td>False</td>\n",
       "      <td>4</td>\n",
       "      <td>True</td>\n",
       "      <td>False</td>\n",
       "      <td>True</td>\n",
       "      <td>1.040</td>\n",
       "      <td>45-relic</td>\n",
       "    </tr>\n",
       "  </tbody>\n",
       "</table>\n",
       "</div>"
      ],
      "text/plain": [
       "   session  subject  age   sex    slide completed  text  readingtime  \\\n",
       "0  186a069  4ba33f7   29  Male  d69884d      True    45       62.805   \n",
       "1  186a069  4ba33f7   29  Male  d69884d      True    45       62.805   \n",
       "2  186a069  4ba33f7   29  Male  d69884d      True    45       62.805   \n",
       "3  186a069  4ba33f7   29  Male  d69884d      True    45       62.805   \n",
       "4  186a069  4ba33f7   29  Male  d69884d      True    45       62.805   \n",
       "\n",
       "         word expected  order   hit response correct     rt       stimulus  \n",
       "0      purple     True      0  True     True    True  1.002      45-purple  \n",
       "1  tastefully    False      1  True    False    True  0.917  45-tastefully  \n",
       "2    cataract     True      2  True     True    True  1.199    45-cataract  \n",
       "3        sack     True      3  True     True    True  0.710        45-sack  \n",
       "4       relic    False      4  True    False    True  1.040       45-relic  "
      ]
     },
     "execution_count": 11,
     "metadata": {},
     "output_type": "execute_result"
    }
   ],
   "source": [
    "Df['recognition'].head()"
   ]
  },
  {
   "cell_type": "markdown",
   "metadata": {},
   "source": [
    "Confirm that we have all data for all texts, except text 34. In data set '06b643a', there is no recognition memory data for text 34. On a few occassions, text 34 was recorded as presented as the recognition memory text, but on those occassion there were no responses from the subject (this may have occurred if they started but did not complete the test)."
   ]
  },
  {
   "cell_type": "code",
   "execution_count": 12,
   "metadata": {
    "collapsed": false
   },
   "outputs": [],
   "source": [
    "texts_1_to_50_set = set(xrange(1, 51))\n",
    "try:\n",
    "    texts_in_recognition_results = set(Df['recognition']['text'].unique())\n",
    "    assert  texts_in_recognition_results == texts_1_to_50_set\n",
    "except AssertionError:\n",
    "    assert texts_1_to_50_set.difference(texts_in_recognition_results) == set((34,))"
   ]
  },
  {
   "cell_type": "code",
   "execution_count": 13,
   "metadata": {
    "collapsed": false
   },
   "outputs": [],
   "source": [
    "recognition_results_filename = 'brisbane_06b643a_recognition_results.pkl'\n",
    "recognition_results_file_checksum\\\n",
    "     = 'e5680ff9853133af8f4d6d7d96382ee7d1698748289b0c77a2ca20fb123c71c3'\n",
    "\n",
    "Df['recognition'].to_pickle(cache_fullpath(recognition_results_filename))\n",
    "\n",
    "assert utils.checksum(cache_fullpath(recognition_results_filename)) == recognition_results_file_checksum"
   ]
  },
  {
   "cell_type": "markdown",
   "metadata": {},
   "source": [
    "## Process the recall data"
   ]
  },
  {
   "cell_type": "markdown",
   "metadata": {},
   "source": [
    "Make all recalled word lower case"
   ]
  },
  {
   "cell_type": "code",
   "execution_count": 14,
   "metadata": {
    "collapsed": false
   },
   "outputs": [],
   "source": [
    "Df['recall']['word'] = map(string.lower, Df['recall']['word'])"
   ]
  },
  {
   "cell_type": "markdown",
   "metadata": {},
   "source": [
    "Confirm that we have recall memory test data for all texts."
   ]
  },
  {
   "cell_type": "code",
   "execution_count": 15,
   "metadata": {
    "collapsed": true
   },
   "outputs": [],
   "source": [
    "assert set(Df['recall']['text'].unique()) == texts_1_to_50_set"
   ]
  },
  {
   "cell_type": "markdown",
   "metadata": {},
   "source": [
    "Determine if the recalled word is correct, i.e. actually in the to be remembered text, or not."
   ]
  },
  {
   "cell_type": "code",
   "execution_count": 16,
   "metadata": {
    "collapsed": false
   },
   "outputs": [],
   "source": [
    "texts = topicmodels.get_experiment_texts('Brismo.cfg', cache=cache_directory)\n",
    "text_contents = {}\n",
    "for text in texts:\n",
    "    _, text_id = text.split('_')\n",
    "    text_contents[int(text_id) + 1] = utils.tokenize(texts[text])    "
   ]
  },
  {
   "cell_type": "markdown",
   "metadata": {},
   "source": [
    "Determine the accuracy of each recalled word. "
   ]
  },
  {
   "cell_type": "code",
   "execution_count": 17,
   "metadata": {
    "collapsed": false
   },
   "outputs": [],
   "source": [
    "Df['recall']['accuracy'] = Df['recall'].apply(lambda arg: (arg[-1] in text_contents[arg[-3]]), axis=1)"
   ]
  },
  {
   "cell_type": "markdown",
   "metadata": {},
   "source": [
    "Like what we did above with the *stimulus* variable in the recognition data, create a \"response\" variable that is the recalled word in the given text. Use the 'n-w' format, where 'n' is the text ID and 'w' is the word."
   ]
  },
  {
   "cell_type": "code",
   "execution_count": 18,
   "metadata": {
    "collapsed": true
   },
   "outputs": [],
   "source": [
    "Df['recall']['response'] = Df['recall'].apply(lambda x: str(x[6])+'-'+x[8], axis=1)"
   ]
  },
  {
   "cell_type": "code",
   "execution_count": 19,
   "metadata": {
    "collapsed": false
   },
   "outputs": [
    {
     "data": {
      "text/html": [
       "<div>\n",
       "<table border=\"1\" class=\"dataframe\">\n",
       "  <thead>\n",
       "    <tr style=\"text-align: right;\">\n",
       "      <th></th>\n",
       "      <th>session</th>\n",
       "      <th>subject</th>\n",
       "      <th>age</th>\n",
       "      <th>sex</th>\n",
       "      <th>slide</th>\n",
       "      <th>completed</th>\n",
       "      <th>text</th>\n",
       "      <th>readingtime</th>\n",
       "      <th>word</th>\n",
       "      <th>accuracy</th>\n",
       "      <th>response</th>\n",
       "    </tr>\n",
       "  </thead>\n",
       "  <tbody>\n",
       "    <tr>\n",
       "      <th>0</th>\n",
       "      <td>186a069</td>\n",
       "      <td>4ba33f7</td>\n",
       "      <td>29</td>\n",
       "      <td>Male</td>\n",
       "      <td>96a7502</td>\n",
       "      <td>True</td>\n",
       "      <td>11</td>\n",
       "      <td>60.165</td>\n",
       "      <td>apparently</td>\n",
       "      <td>True</td>\n",
       "      <td>11-apparently</td>\n",
       "    </tr>\n",
       "    <tr>\n",
       "      <th>1</th>\n",
       "      <td>186a069</td>\n",
       "      <td>4ba33f7</td>\n",
       "      <td>29</td>\n",
       "      <td>Male</td>\n",
       "      <td>96a7502</td>\n",
       "      <td>True</td>\n",
       "      <td>11</td>\n",
       "      <td>60.165</td>\n",
       "      <td>there</td>\n",
       "      <td>True</td>\n",
       "      <td>11-there</td>\n",
       "    </tr>\n",
       "    <tr>\n",
       "      <th>2</th>\n",
       "      <td>186a069</td>\n",
       "      <td>4ba33f7</td>\n",
       "      <td>29</td>\n",
       "      <td>Male</td>\n",
       "      <td>96a7502</td>\n",
       "      <td>True</td>\n",
       "      <td>11</td>\n",
       "      <td>60.165</td>\n",
       "      <td>is</td>\n",
       "      <td>True</td>\n",
       "      <td>11-is</td>\n",
       "    </tr>\n",
       "    <tr>\n",
       "      <th>3</th>\n",
       "      <td>186a069</td>\n",
       "      <td>4ba33f7</td>\n",
       "      <td>29</td>\n",
       "      <td>Male</td>\n",
       "      <td>96a7502</td>\n",
       "      <td>True</td>\n",
       "      <td>11</td>\n",
       "      <td>60.165</td>\n",
       "      <td>no</td>\n",
       "      <td>True</td>\n",
       "      <td>11-no</td>\n",
       "    </tr>\n",
       "    <tr>\n",
       "      <th>4</th>\n",
       "      <td>186a069</td>\n",
       "      <td>4ba33f7</td>\n",
       "      <td>29</td>\n",
       "      <td>Male</td>\n",
       "      <td>96a7502</td>\n",
       "      <td>True</td>\n",
       "      <td>11</td>\n",
       "      <td>60.165</td>\n",
       "      <td>case</td>\n",
       "      <td>True</td>\n",
       "      <td>11-case</td>\n",
       "    </tr>\n",
       "  </tbody>\n",
       "</table>\n",
       "</div>"
      ],
      "text/plain": [
       "   session  subject  age   sex    slide completed  text  readingtime  \\\n",
       "0  186a069  4ba33f7   29  Male  96a7502      True    11       60.165   \n",
       "1  186a069  4ba33f7   29  Male  96a7502      True    11       60.165   \n",
       "2  186a069  4ba33f7   29  Male  96a7502      True    11       60.165   \n",
       "3  186a069  4ba33f7   29  Male  96a7502      True    11       60.165   \n",
       "4  186a069  4ba33f7   29  Male  96a7502      True    11       60.165   \n",
       "\n",
       "         word accuracy       response  \n",
       "0  apparently     True  11-apparently  \n",
       "1       there     True       11-there  \n",
       "2          is     True          11-is  \n",
       "3          no     True          11-no  \n",
       "4        case     True        11-case  "
      ]
     },
     "execution_count": 19,
     "metadata": {},
     "output_type": "execute_result"
    }
   ],
   "source": [
    "Df['recall'].head()"
   ]
  },
  {
   "cell_type": "code",
   "execution_count": 20,
   "metadata": {
    "collapsed": false
   },
   "outputs": [],
   "source": [
    "recall_results_filename = 'brisbane_06b643a_recall_results.pkl'\n",
    "recall_results_file_checksum\\\n",
    "     = 'a94d812373123b9a8b1eac848276e8ffc6a563ebca71ff2bf5adc97c825cbc14'\n",
    "\n",
    "Df['recall'].to_pickle(cache_fullpath(recall_results_filename))\n",
    "\n",
    "assert utils.checksum(cache_fullpath(recall_results_filename)) == recall_results_file_checksum"
   ]
  }
 ],
 "metadata": {
  "hide_input": false,
  "kernelspec": {
   "display_name": "Python 2",
   "language": "python2",
   "name": "python2"
  },
  "language_info": {
   "codemirror_mode": {
    "name": "ipython",
    "version": 2
   },
   "file_extension": ".py",
   "mimetype": "text/x-python",
   "name": "python",
   "nbconvert_exporter": "python",
   "pygments_lexer": "ipython2",
   "version": "2.7.13"
  }
 },
 "nbformat": 4,
 "nbformat_minor": 1
}
