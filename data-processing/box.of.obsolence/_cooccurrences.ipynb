{
 "cells": [
  {
   "cell_type": "markdown",
   "metadata": {},
   "source": [
    "In text $j$, if there are $n_j$ words, there are $\\frac{n_j \\cdot (n_j - 1)}{2}$ pairs of words in total (where the pairs need not be cosecutive words in the text). Of all these pairs, there are $n_{jk} \\cdot n_{jl}$ pairs consisting of words $w_k$ and $w_l$, and $\\frac{n_{jk} \\cdot (n_{jk} - 1)}{2}$ pair consisting of word $w_k$ repeated twice, where $n_{jk}$ and $n_{jl}$ are the number of times that word $w_k$ and $w_l$, respectively, occur in text $j$.\n",
    "\n",
    "Across all of the texts in the corpus, the total number of cooccurrences of the words $w_k$ and $w_l$ is \n",
    "$$\n",
    "C_{kl} = \\begin{cases}\n",
    "\\sum_{j=1}^J n_{jk} \\cdot n_{jl},\\quad\\text{if $k\\neq l$}\\\\\n",
    "\\tfrac{1}{2} \\sum_{j=1}^J n_{jk} \\cdot (n_{jl}-1),\\quad\\text{if $k = l$}\n",
    "\\end{cases}\n",
    "$$"
   ]
  },
  {
   "cell_type": "code",
   "execution_count": 16,
   "metadata": {
    "collapsed": false
   },
   "outputs": [],
   "source": [
    "import configobj\n",
    "import pandas\n",
    "import numpy\n",
    "import os\n",
    "import cPickle as pickle\n",
    "from scipy import sparse\n",
    "from scipy.special import digamma\n",
    "from utils import utils\n",
    "from utils import datautils\n",
    "from collections import defaultdict\n",
    "from utils.datautils import tokenize"
   ]
  },
  {
   "cell_type": "code",
   "execution_count": 2,
   "metadata": {
    "collapsed": false
   },
   "outputs": [],
   "source": [
    "url_root = 'http://www.lawsofthought.org/shared'\n",
    "\n",
    "cache_directory = '../_cache'\n",
    "cache_fullpath = lambda path: os.path.join(cache_directory, path)\n",
    "\n",
    "filenames = {\n",
    "    'experiment_cfg' : [('Brismo.cfg',\n",
    "                         '909d9f8de483c4547f26fb4c34b91e12908ab5c144e065dc0fe6c1504b1f22c9')],\n",
    "    'text-corpus' : [('bnc_texts_78723408_250_500.txt.bz2', \n",
    "                      'dd8806f51088f7c8ad6c1c9bfadb6680c44bc5fd411e52970ea9c63596c83d34')],\n",
    "    'vocabulary' : [('bnc_vocab_49328.txt',\n",
    "                     '55737507ea9a2c18d26b81c0a446c074c6b8c72dedfa782c763161593e6e3b97')]\n",
    "}\n",
    "\n",
    "utils.curl(url_root, \n",
    "                 filenames['experiment_cfg'] + filenames['text-corpus'] + filenames['vocabulary'], \n",
    "                 cache=cache_directory,\n",
    "                 verbose=False)\n",
    "\n",
    "memoranda = configobj.ConfigObj(cache_fullpath('Brismo.cfg'))['text_memoranda']\n",
    "\n",
    "vocabulary = open(cache_fullpath('bnc_vocab_49328.txt')).read().split()\n",
    "vocab = datautils.Vocab(vocabulary)\n",
    "\n",
    "Df = {}\n",
    "Df['recall'] = pandas.read_pickle(cache_fullpath('brisbane_06b643a_recall_results.pkl'))\n",
    "\n",
    "recalled_words = sorted(set(Df['recall']['word'].values).intersection(vocabulary))"
   ]
  },
  {
   "cell_type": "code",
   "execution_count": 3,
   "metadata": {
    "collapsed": true
   },
   "outputs": [],
   "source": [
    "def text_to_words(text):\n",
    "    return [word for word in utils.tokenize(text) \n",
    "            if word in vocab.word2index]"
   ]
  },
  {
   "cell_type": "code",
   "execution_count": 4,
   "metadata": {
    "collapsed": false
   },
   "outputs": [],
   "source": [
    "def get_random_words(K=5000, seed=10101):\n",
    "    random = numpy.random.RandomState(seed)\n",
    "    return [vocab.vocab[i] for i in random.permutation(len(vocab.vocab))[:5000]]\n",
    "\n",
    "all_words = recalled_words[:] #+ get_random_words()\n",
    "\n",
    "for text_name in memoranda:\n",
    "\n",
    "    inwords = memoranda[text_name]['inwords'].split(',')\n",
    "    outwords = memoranda[text_name]['outwords'].split(',')\n",
    "    text_words = text_to_words(memoranda[text_name]['text'])\n",
    "    \n",
    "    all_words.extend(inwords + outwords + text_words)\n",
    "    \n",
    "all_words = sorted(set(all_words).intersection(vocab.vocab))"
   ]
  },
  {
   "cell_type": "code",
   "execution_count": 5,
   "metadata": {
    "collapsed": false
   },
   "outputs": [],
   "source": [
    "cooccurrences = datautils.Cooccurrences('bnc_texts_78723408_250_500.txt.bz2', \n",
    "                                        cache=cache_directory,\n",
    "                                        vocab=vocab)"
   ]
  },
  {
   "cell_type": "code",
   "execution_count": 7,
   "metadata": {
    "collapsed": false
   },
   "outputs": [],
   "source": [
    "rows, cols, values, J, V = cooccurrences.get_sparse_matrix_ijv()"
   ]
  },
  {
   "cell_type": "code",
   "execution_count": 9,
   "metadata": {
    "collapsed": false
   },
   "outputs": [
    {
     "data": {
      "text/plain": [
       "(345974208,)"
      ]
     },
     "execution_count": 9,
     "metadata": {},
     "output_type": "execute_result"
    }
   ],
   "source": [
    "cols.shape"
   ]
  },
  {
   "cell_type": "code",
   "execution_count": 35,
   "metadata": {
    "collapsed": true
   },
   "outputs": [],
   "source": [
    "def fixed_point_iteration(rows, cols, values, alpha):\n",
    "    \n",
    "    alpha_k = alpha[cols]\n",
    "    \n",
    "    mtrx = sparse.csr_matrix((digamma_approx(values + alpha_k), (rows, cols)), \n",
    "                             shape=(J, V))\n",
    "    \n",
    "    return mtrx"
   ]
  },
  {
   "cell_type": "code",
   "execution_count": 36,
   "metadata": {
    "collapsed": false
   },
   "outputs": [
    {
     "ename": "ValueError",
     "evalue": "operands could not be broadcast together with shapes (345974208,) (8,) ",
     "output_type": "error",
     "traceback": [
      "\u001b[0;31m---------------------------------------------------------------------------\u001b[0m",
      "\u001b[0;31mValueError\u001b[0m                                Traceback (most recent call last)",
      "\u001b[0;32m<ipython-input-36-7b1397f7ee48>\u001b[0m in \u001b[0;36m<module>\u001b[0;34m()\u001b[0m\n\u001b[1;32m      1\u001b[0m \u001b[0malpha\u001b[0m \u001b[0;34m=\u001b[0m \u001b[0mnumpy\u001b[0m\u001b[0;34m.\u001b[0m\u001b[0mones\u001b[0m\u001b[0;34m(\u001b[0m\u001b[0mV\u001b[0m\u001b[0;34m)\u001b[0m\u001b[0;34m\u001b[0m\u001b[0m\n\u001b[0;32m----> 2\u001b[0;31m \u001b[0mM\u001b[0m \u001b[0;34m=\u001b[0m \u001b[0mfixed_point_iteration\u001b[0m\u001b[0;34m(\u001b[0m\u001b[0mrows\u001b[0m\u001b[0;34m,\u001b[0m \u001b[0mcols\u001b[0m\u001b[0;34m,\u001b[0m \u001b[0mvalues\u001b[0m\u001b[0;34m,\u001b[0m \u001b[0malpha\u001b[0m\u001b[0;34m)\u001b[0m\u001b[0;34m\u001b[0m\u001b[0m\n\u001b[0m",
      "\u001b[0;32m<ipython-input-35-d3fdd1ace3fa>\u001b[0m in \u001b[0;36mfixed_point_iteration\u001b[0;34m(rows, cols, values, alpha)\u001b[0m\n\u001b[1;32m      3\u001b[0m     \u001b[0malpha_k\u001b[0m \u001b[0;34m=\u001b[0m \u001b[0malpha\u001b[0m\u001b[0;34m[\u001b[0m\u001b[0mcols\u001b[0m\u001b[0;34m]\u001b[0m\u001b[0;34m\u001b[0m\u001b[0m\n\u001b[1;32m      4\u001b[0m \u001b[0;34m\u001b[0m\u001b[0m\n\u001b[0;32m----> 5\u001b[0;31m     mtrx = sparse.csr_matrix((digamma_approx(values + alpha_k), (rows, cols)), \n\u001b[0m\u001b[1;32m      6\u001b[0m                              shape=(J, V))\n\u001b[1;32m      7\u001b[0m \u001b[0;34m\u001b[0m\u001b[0m\n",
      "\u001b[0;32m<ipython-input-24-06785e842f4e>\u001b[0m in \u001b[0;36mdigamma_approx\u001b[0;34m(x)\u001b[0m\n\u001b[1;32m      4\u001b[0m     \u001b[0mb\u001b[0m \u001b[0;34m=\u001b[0m \u001b[0mnumpy\u001b[0m\u001b[0;34m.\u001b[0m\u001b[0marray\u001b[0m\u001b[0;34m(\u001b[0m\u001b[0;34m(\u001b[0m\u001b[0;34m-\u001b[0m\u001b[0;36m1\u001b[0m\u001b[0;34m/\u001b[0m\u001b[0;36m2\u001b[0m\u001b[0;34m,\u001b[0m \u001b[0;34m-\u001b[0m\u001b[0;36m1\u001b[0m\u001b[0;34m/\u001b[0m\u001b[0;36m12\u001b[0m\u001b[0;34m,\u001b[0m \u001b[0;36m1\u001b[0m\u001b[0;34m/\u001b[0m\u001b[0;36m120\u001b[0m\u001b[0;34m,\u001b[0m \u001b[0;34m-\u001b[0m\u001b[0;36m1\u001b[0m\u001b[0;34m/\u001b[0m\u001b[0;36m252\u001b[0m\u001b[0;34m,\u001b[0m \u001b[0;36m1\u001b[0m\u001b[0;34m/\u001b[0m\u001b[0;36m240\u001b[0m\u001b[0;34m,\u001b[0m \u001b[0;34m-\u001b[0m\u001b[0;36m5\u001b[0m\u001b[0;34m/\u001b[0m\u001b[0;36m660\u001b[0m\u001b[0;34m,\u001b[0m \u001b[0;36m691\u001b[0m\u001b[0;34m/\u001b[0m\u001b[0;36m32760\u001b[0m\u001b[0;34m,\u001b[0m\u001b[0;34m-\u001b[0m\u001b[0;36m1\u001b[0m\u001b[0;34m/\u001b[0m\u001b[0;36m12\u001b[0m\u001b[0;34m)\u001b[0m\u001b[0;34m)\u001b[0m\u001b[0;34m\u001b[0m\u001b[0m\n\u001b[1;32m      5\u001b[0m \u001b[0;34m\u001b[0m\u001b[0m\n\u001b[0;32m----> 6\u001b[0;31m     \u001b[0;32mreturn\u001b[0m \u001b[0mnumpy\u001b[0m\u001b[0;34m.\u001b[0m\u001b[0mlog\u001b[0m\u001b[0;34m(\u001b[0m\u001b[0mx\u001b[0m\u001b[0;34m)\u001b[0m \u001b[0;34m+\u001b[0m \u001b[0mnumpy\u001b[0m\u001b[0;34m.\u001b[0m\u001b[0mdot\u001b[0m\u001b[0;34m(\u001b[0m\u001b[0mb\u001b[0m\u001b[0;34m,\u001b[0m \u001b[0mx\u001b[0m\u001b[0;34m**\u001b[0m\u001b[0mk\u001b[0m\u001b[0;34m)\u001b[0m\u001b[0;34m\u001b[0m\u001b[0m\n\u001b[0m",
      "\u001b[0;31mValueError\u001b[0m: operands could not be broadcast together with shapes (345974208,) (8,) "
     ]
    }
   ],
   "source": [
    "alpha = numpy.ones(V)\n",
    "M = fixed_point_iteration(rows, cols, values, alpha)"
   ]
  },
  {
   "cell_type": "code",
   "execution_count": 34,
   "metadata": {
    "collapsed": false
   },
   "outputs": [
    {
     "data": {
      "text/plain": [
       "array([ 1.,  1.,  1., ...,  1.,  1.,  1.])"
      ]
     },
     "execution_count": 34,
     "metadata": {},
     "output_type": "execute_result"
    }
   ],
   "source": [
    "alpha"
   ]
  },
  {
   "cell_type": "code",
   "execution_count": 37,
   "metadata": {
    "collapsed": false
   },
   "outputs": [
    {
     "data": {
      "text/plain": [
       "(345974208,)"
      ]
     },
     "execution_count": 37,
     "metadata": {},
     "output_type": "execute_result"
    }
   ],
   "source": [
    "values.shape"
   ]
  },
  {
   "cell_type": "code",
   "execution_count": null,
   "metadata": {
    "collapsed": false
   },
   "outputs": [],
   "source": [
    "%timeit digamma(values)"
   ]
  },
  {
   "cell_type": "code",
   "execution_count": null,
   "metadata": {
    "collapsed": true
   },
   "outputs": [],
   "source": []
  }
 ],
 "metadata": {
  "kernelspec": {
   "display_name": "Python 2",
   "language": "python2",
   "name": "python2"
  },
  "language_info": {
   "codemirror_mode": {
    "name": "ipython",
    "version": 2
   },
   "file_extension": ".py",
   "mimetype": "text/x-python",
   "name": "python",
   "nbconvert_exporter": "python",
   "pygments_lexer": "ipython2",
   "version": "2.7.13"
  }
 },
 "nbformat": 4,
 "nbformat_minor": 2
}
