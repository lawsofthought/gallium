{
 "cells": [
  {
   "cell_type": "markdown",
   "metadata": {
    "deletable": true,
    "editable": true
   },
   "source": [
    "# Analysis of recall and recognition results\n",
    "\n",
    "In particular, we aim to analyse how well three different models predict the memory results."
   ]
  },
  {
   "cell_type": "code",
   "execution_count": 1,
   "metadata": {
    "collapsed": false,
    "deletable": true,
    "editable": true
   },
   "outputs": [],
   "source": [
    "%matplotlib inline"
   ]
  },
  {
   "cell_type": "code",
   "execution_count": 2,
   "metadata": {
    "collapsed": true,
    "deletable": true,
    "editable": true
   },
   "outputs": [],
   "source": [
    "from __future__ import division"
   ]
  },
  {
   "cell_type": "code",
   "execution_count": 3,
   "metadata": {
    "collapsed": false,
    "deletable": true,
    "editable": true
   },
   "outputs": [],
   "source": [
    "import pandas\n",
    "import numpy\n",
    "import cPickle as pickle\n",
    "from utils import datautils\n",
    "\n",
    "import configobj\n",
    "\n",
    "import seaborn as sns\n",
    "\n",
    "from utils import topicmodels\n",
    "from utils import utils\n",
    "\n",
    "import warnings\n",
    "warnings.filterwarnings('ignore') # Some warnings are just annoying"
   ]
  },
  {
   "cell_type": "markdown",
   "metadata": {
    "deletable": true,
    "editable": true
   },
   "source": [
    "## Load up vocab"
   ]
  },
  {
   "cell_type": "code",
   "execution_count": 4,
   "metadata": {
    "collapsed": false,
    "deletable": true,
    "editable": true
   },
   "outputs": [],
   "source": [
    "vocabulary = open('_cache/bnc_vocab_49328.txt').read().split()\n",
    "vocab = datautils.Vocab(vocabulary)"
   ]
  },
  {
   "cell_type": "markdown",
   "metadata": {
    "deletable": true,
    "editable": true
   },
   "source": [
    "## Load up recall data"
   ]
  },
  {
   "cell_type": "code",
   "execution_count": 5,
   "metadata": {
    "collapsed": true,
    "deletable": true,
    "editable": true
   },
   "outputs": [],
   "source": [
    "Df = {}\n",
    "Df['recall'] = pandas.read_pickle('_cache/brisbane_06b643a_recall_results.pkl')"
   ]
  },
  {
   "cell_type": "markdown",
   "metadata": {
    "deletable": true,
    "editable": true
   },
   "source": [
    "Filter data frame by only responses where the recalled word is in the vocabulary."
   ]
  },
  {
   "cell_type": "code",
   "execution_count": 6,
   "metadata": {
    "collapsed": true,
    "deletable": true,
    "editable": true
   },
   "outputs": [],
   "source": [
    "I = map(lambda word: True if word in vocabulary else False, Df['recall']['word'])\n",
    "Df['recall'] = Df['recall'][I]"
   ]
  },
  {
   "cell_type": "code",
   "execution_count": 7,
   "metadata": {
    "collapsed": false,
    "deletable": true,
    "editable": true
   },
   "outputs": [
    {
     "data": {
      "text/html": [
       "<div>\n",
       "<table border=\"1\" class=\"dataframe\">\n",
       "  <thead>\n",
       "    <tr style=\"text-align: right;\">\n",
       "      <th></th>\n",
       "      <th>session</th>\n",
       "      <th>subject</th>\n",
       "      <th>slide</th>\n",
       "      <th>text</th>\n",
       "      <th>word</th>\n",
       "    </tr>\n",
       "  </thead>\n",
       "  <tbody>\n",
       "    <tr>\n",
       "      <th>0</th>\n",
       "      <td>186a069</td>\n",
       "      <td>4ba33f7</td>\n",
       "      <td>cc3a8e4</td>\n",
       "      <td>11</td>\n",
       "      <td>apparently</td>\n",
       "    </tr>\n",
       "    <tr>\n",
       "      <th>5</th>\n",
       "      <td>186a069</td>\n",
       "      <td>4ba33f7</td>\n",
       "      <td>cc3a8e4</td>\n",
       "      <td>11</td>\n",
       "      <td>law</td>\n",
       "    </tr>\n",
       "    <tr>\n",
       "      <th>9</th>\n",
       "      <td>186a069</td>\n",
       "      <td>4ba33f7</td>\n",
       "      <td>cc3a8e4</td>\n",
       "      <td>11</td>\n",
       "      <td>directive</td>\n",
       "    </tr>\n",
       "    <tr>\n",
       "      <th>11</th>\n",
       "      <td>186a069</td>\n",
       "      <td>4ba33f7</td>\n",
       "      <td>cc3a8e4</td>\n",
       "      <td>11</td>\n",
       "      <td>faith</td>\n",
       "    </tr>\n",
       "    <tr>\n",
       "      <th>12</th>\n",
       "      <td>186a069</td>\n",
       "      <td>4ba33f7</td>\n",
       "      <td>cc3a8e4</td>\n",
       "      <td>11</td>\n",
       "      <td>family</td>\n",
       "    </tr>\n",
       "  </tbody>\n",
       "</table>\n",
       "</div>"
      ],
      "text/plain": [
       "    session  subject    slide  text        word\n",
       "0   186a069  4ba33f7  cc3a8e4    11  apparently\n",
       "5   186a069  4ba33f7  cc3a8e4    11         law\n",
       "9   186a069  4ba33f7  cc3a8e4    11   directive\n",
       "11  186a069  4ba33f7  cc3a8e4    11       faith\n",
       "12  186a069  4ba33f7  cc3a8e4    11      family"
      ]
     },
     "execution_count": 7,
     "metadata": {},
     "output_type": "execute_result"
    }
   ],
   "source": [
    "Df['recall'].head()"
   ]
  },
  {
   "cell_type": "markdown",
   "metadata": {
    "deletable": true,
    "editable": true
   },
   "source": [
    "Confirm that all recalled word are in the vocabulary."
   ]
  },
  {
   "cell_type": "code",
   "execution_count": 8,
   "metadata": {
    "collapsed": false,
    "deletable": true,
    "editable": true
   },
   "outputs": [],
   "source": [
    "assert all(map(lambda word: word in vocabulary, Df['recall']['word']))"
   ]
  },
  {
   "cell_type": "markdown",
   "metadata": {
    "deletable": true,
    "editable": true
   },
   "source": [
    "## Load up cooccurrence probabilities\n"
   ]
  },
  {
   "cell_type": "code",
   "execution_count": 9,
   "metadata": {
    "collapsed": true,
    "deletable": true,
    "editable": true
   },
   "outputs": [],
   "source": [
    "with open('_cache/cooccurrence_predictions.pkl') as f:\n",
    "    cooccurrence_predictions = pickle.load(f)"
   ]
  },
  {
   "cell_type": "markdown",
   "metadata": {
    "deletable": true,
    "editable": true
   },
   "source": [
    "Confirm that for every recalled word, we have a predicted probability."
   ]
  },
  {
   "cell_type": "code",
   "execution_count": 10,
   "metadata": {
    "collapsed": false,
    "deletable": true,
    "editable": true
   },
   "outputs": [],
   "source": [
    "words = []\n",
    "texts = []\n",
    "for key in cooccurrence_predictions.keys():\n",
    "    text_id, word = key.split('-')\n",
    "    words.append(word)\n",
    "    texts.append(int(text_id))\n",
    "\n",
    "assert all(map(lambda recalled_word: recalled_word in words, Df['recall']['word']))"
   ]
  },
  {
   "cell_type": "markdown",
   "metadata": {
    "deletable": true,
    "editable": true
   },
   "source": [
    "Confirm that we have the same texts in both the recall and cooccurrence data."
   ]
  },
  {
   "cell_type": "code",
   "execution_count": 11,
   "metadata": {
    "collapsed": false,
    "deletable": true,
    "editable": true
   },
   "outputs": [],
   "source": [
    "assert set(Df['recall']['text'].unique()) == set(texts)"
   ]
  },
  {
   "cell_type": "markdown",
   "metadata": {
    "deletable": true,
    "editable": true
   },
   "source": [
    "Now, create a \"response\" variable that is the recalled word in the given text. Use the 'n-w' format, where 'n' is the text ID and 'w' is the word."
   ]
  },
  {
   "cell_type": "code",
   "execution_count": 12,
   "metadata": {
    "collapsed": false,
    "deletable": true,
    "editable": true
   },
   "outputs": [],
   "source": [
    "Df['recall']['response'] = Df['recall'].apply(lambda x: str(x[3])+'-'+x[4], axis=1)"
   ]
  },
  {
   "cell_type": "code",
   "execution_count": 13,
   "metadata": {
    "collapsed": false,
    "deletable": true,
    "editable": true
   },
   "outputs": [
    {
     "data": {
      "text/html": [
       "<div>\n",
       "<table border=\"1\" class=\"dataframe\">\n",
       "  <thead>\n",
       "    <tr style=\"text-align: right;\">\n",
       "      <th></th>\n",
       "      <th>session</th>\n",
       "      <th>subject</th>\n",
       "      <th>slide</th>\n",
       "      <th>text</th>\n",
       "      <th>word</th>\n",
       "      <th>response</th>\n",
       "    </tr>\n",
       "  </thead>\n",
       "  <tbody>\n",
       "    <tr>\n",
       "      <th>0</th>\n",
       "      <td>186a069</td>\n",
       "      <td>4ba33f7</td>\n",
       "      <td>cc3a8e4</td>\n",
       "      <td>11</td>\n",
       "      <td>apparently</td>\n",
       "      <td>11-apparently</td>\n",
       "    </tr>\n",
       "    <tr>\n",
       "      <th>5</th>\n",
       "      <td>186a069</td>\n",
       "      <td>4ba33f7</td>\n",
       "      <td>cc3a8e4</td>\n",
       "      <td>11</td>\n",
       "      <td>law</td>\n",
       "      <td>11-law</td>\n",
       "    </tr>\n",
       "    <tr>\n",
       "      <th>9</th>\n",
       "      <td>186a069</td>\n",
       "      <td>4ba33f7</td>\n",
       "      <td>cc3a8e4</td>\n",
       "      <td>11</td>\n",
       "      <td>directive</td>\n",
       "      <td>11-directive</td>\n",
       "    </tr>\n",
       "    <tr>\n",
       "      <th>11</th>\n",
       "      <td>186a069</td>\n",
       "      <td>4ba33f7</td>\n",
       "      <td>cc3a8e4</td>\n",
       "      <td>11</td>\n",
       "      <td>faith</td>\n",
       "      <td>11-faith</td>\n",
       "    </tr>\n",
       "    <tr>\n",
       "      <th>12</th>\n",
       "      <td>186a069</td>\n",
       "      <td>4ba33f7</td>\n",
       "      <td>cc3a8e4</td>\n",
       "      <td>11</td>\n",
       "      <td>family</td>\n",
       "      <td>11-family</td>\n",
       "    </tr>\n",
       "  </tbody>\n",
       "</table>\n",
       "</div>"
      ],
      "text/plain": [
       "    session  subject    slide  text        word       response\n",
       "0   186a069  4ba33f7  cc3a8e4    11  apparently  11-apparently\n",
       "5   186a069  4ba33f7  cc3a8e4    11         law         11-law\n",
       "9   186a069  4ba33f7  cc3a8e4    11   directive   11-directive\n",
       "11  186a069  4ba33f7  cc3a8e4    11       faith       11-faith\n",
       "12  186a069  4ba33f7  cc3a8e4    11      family      11-family"
      ]
     },
     "execution_count": 13,
     "metadata": {},
     "output_type": "execute_result"
    }
   ],
   "source": [
    "Df['recall'].head()"
   ]
  },
  {
   "cell_type": "markdown",
   "metadata": {
    "deletable": true,
    "editable": true
   },
   "source": [
    "Add the cooccurrence predictions to the recall data frame."
   ]
  },
  {
   "cell_type": "code",
   "execution_count": 14,
   "metadata": {
    "collapsed": false,
    "deletable": true,
    "editable": true
   },
   "outputs": [
    {
     "data": {
      "text/html": [
       "<div>\n",
       "<table border=\"1\" class=\"dataframe\">\n",
       "  <thead>\n",
       "    <tr style=\"text-align: right;\">\n",
       "      <th></th>\n",
       "      <th>session</th>\n",
       "      <th>subject</th>\n",
       "      <th>slide</th>\n",
       "      <th>text</th>\n",
       "      <th>word</th>\n",
       "      <th>response</th>\n",
       "      <th>cooccurrence.predictions</th>\n",
       "    </tr>\n",
       "  </thead>\n",
       "  <tbody>\n",
       "    <tr>\n",
       "      <th>0</th>\n",
       "      <td>186a069</td>\n",
       "      <td>4ba33f7</td>\n",
       "      <td>cc3a8e4</td>\n",
       "      <td>11</td>\n",
       "      <td>apparently</td>\n",
       "      <td>11-apparently</td>\n",
       "      <td>0.000351</td>\n",
       "    </tr>\n",
       "    <tr>\n",
       "      <th>5</th>\n",
       "      <td>186a069</td>\n",
       "      <td>4ba33f7</td>\n",
       "      <td>cc3a8e4</td>\n",
       "      <td>11</td>\n",
       "      <td>law</td>\n",
       "      <td>11-law</td>\n",
       "      <td>0.003014</td>\n",
       "    </tr>\n",
       "    <tr>\n",
       "      <th>9</th>\n",
       "      <td>186a069</td>\n",
       "      <td>4ba33f7</td>\n",
       "      <td>cc3a8e4</td>\n",
       "      <td>11</td>\n",
       "      <td>directive</td>\n",
       "      <td>11-directive</td>\n",
       "      <td>0.001635</td>\n",
       "    </tr>\n",
       "    <tr>\n",
       "      <th>11</th>\n",
       "      <td>186a069</td>\n",
       "      <td>4ba33f7</td>\n",
       "      <td>cc3a8e4</td>\n",
       "      <td>11</td>\n",
       "      <td>faith</td>\n",
       "      <td>11-faith</td>\n",
       "      <td>0.000510</td>\n",
       "    </tr>\n",
       "    <tr>\n",
       "      <th>12</th>\n",
       "      <td>186a069</td>\n",
       "      <td>4ba33f7</td>\n",
       "      <td>cc3a8e4</td>\n",
       "      <td>11</td>\n",
       "      <td>family</td>\n",
       "      <td>11-family</td>\n",
       "      <td>0.001329</td>\n",
       "    </tr>\n",
       "  </tbody>\n",
       "</table>\n",
       "</div>"
      ],
      "text/plain": [
       "    session  subject    slide  text        word       response  \\\n",
       "0   186a069  4ba33f7  cc3a8e4    11  apparently  11-apparently   \n",
       "5   186a069  4ba33f7  cc3a8e4    11         law         11-law   \n",
       "9   186a069  4ba33f7  cc3a8e4    11   directive   11-directive   \n",
       "11  186a069  4ba33f7  cc3a8e4    11       faith       11-faith   \n",
       "12  186a069  4ba33f7  cc3a8e4    11      family      11-family   \n",
       "\n",
       "    cooccurrence.predictions  \n",
       "0                   0.000351  \n",
       "5                   0.003014  \n",
       "9                   0.001635  \n",
       "11                  0.000510  \n",
       "12                  0.001329  "
      ]
     },
     "execution_count": 14,
     "metadata": {},
     "output_type": "execute_result"
    }
   ],
   "source": [
    "Df['recall']['cooccurrence.predictions'] = map(cooccurrence_predictions.get, Df['recall']['response'])\n",
    "\n",
    "Df['recall'].head()"
   ]
  },
  {
   "cell_type": "markdown",
   "metadata": {
    "deletable": true,
    "editable": true
   },
   "source": [
    "## Load the model's posterior predictions"
   ]
  },
  {
   "cell_type": "code",
   "execution_count": 15,
   "metadata": {
    "collapsed": false,
    "deletable": true,
    "editable": true
   },
   "outputs": [],
   "source": [
    "with open('_cache/posterior_predictions.2017.01.20.1484887827.pkl','rb') as f:\n",
    "    posterior_predictions = pickle.load(f)"
   ]
  },
  {
   "cell_type": "code",
   "execution_count": 16,
   "metadata": {
    "collapsed": false,
    "deletable": true,
    "editable": true
   },
   "outputs": [],
   "source": [
    "corpus_data = utils.loadnpz('bnc_78723408_250_500_49328.npz.bz2', \n",
    "                            cache='_cache',\n",
    "                            verbose=False)\n",
    "\n",
    "word2index = {w:i for i,w in enumerate(corpus_data['vocabulary'])}\n",
    "index2word = {i:w for i,w in enumerate(corpus_data['vocabulary'])}"
   ]
  },
  {
   "cell_type": "code",
   "execution_count": 17,
   "metadata": {
    "collapsed": false,
    "deletable": true,
    "editable": true
   },
   "outputs": [],
   "source": [
    "pp = {}\n",
    "for key,value in cooccurrence_predictions.items():\n",
    "    \n",
    "    try:\n",
    "        n, word = key.split('-')\n",
    "        w_i = word2index[word]\n",
    "        text_id = 'text_%d' % (int(n)-1)\n",
    "        pp[key] = posterior_predictions[text_id][w_i]\n",
    "    except KeyError:\n",
    "        pass"
   ]
  },
  {
   "cell_type": "code",
   "execution_count": 18,
   "metadata": {
    "collapsed": false,
    "deletable": true,
    "editable": true
   },
   "outputs": [
    {
     "data": {
      "text/html": [
       "<div>\n",
       "<table border=\"1\" class=\"dataframe\">\n",
       "  <thead>\n",
       "    <tr style=\"text-align: right;\">\n",
       "      <th></th>\n",
       "      <th>session</th>\n",
       "      <th>subject</th>\n",
       "      <th>slide</th>\n",
       "      <th>text</th>\n",
       "      <th>word</th>\n",
       "      <th>response</th>\n",
       "      <th>cooccurrence.predictions</th>\n",
       "      <th>posterior.predictions</th>\n",
       "    </tr>\n",
       "  </thead>\n",
       "  <tbody>\n",
       "    <tr>\n",
       "      <th>0</th>\n",
       "      <td>186a069</td>\n",
       "      <td>4ba33f7</td>\n",
       "      <td>cc3a8e4</td>\n",
       "      <td>11</td>\n",
       "      <td>apparently</td>\n",
       "      <td>11-apparently</td>\n",
       "      <td>0.000351</td>\n",
       "      <td>0.000114</td>\n",
       "    </tr>\n",
       "    <tr>\n",
       "      <th>5</th>\n",
       "      <td>186a069</td>\n",
       "      <td>4ba33f7</td>\n",
       "      <td>cc3a8e4</td>\n",
       "      <td>11</td>\n",
       "      <td>law</td>\n",
       "      <td>11-law</td>\n",
       "      <td>0.003014</td>\n",
       "      <td>0.009909</td>\n",
       "    </tr>\n",
       "    <tr>\n",
       "      <th>9</th>\n",
       "      <td>186a069</td>\n",
       "      <td>4ba33f7</td>\n",
       "      <td>cc3a8e4</td>\n",
       "      <td>11</td>\n",
       "      <td>directive</td>\n",
       "      <td>11-directive</td>\n",
       "      <td>0.001635</td>\n",
       "      <td>0.004320</td>\n",
       "    </tr>\n",
       "    <tr>\n",
       "      <th>11</th>\n",
       "      <td>186a069</td>\n",
       "      <td>4ba33f7</td>\n",
       "      <td>cc3a8e4</td>\n",
       "      <td>11</td>\n",
       "      <td>faith</td>\n",
       "      <td>11-faith</td>\n",
       "      <td>0.000510</td>\n",
       "      <td>0.000932</td>\n",
       "    </tr>\n",
       "    <tr>\n",
       "      <th>12</th>\n",
       "      <td>186a069</td>\n",
       "      <td>4ba33f7</td>\n",
       "      <td>cc3a8e4</td>\n",
       "      <td>11</td>\n",
       "      <td>family</td>\n",
       "      <td>11-family</td>\n",
       "      <td>0.001329</td>\n",
       "      <td>0.001698</td>\n",
       "    </tr>\n",
       "  </tbody>\n",
       "</table>\n",
       "</div>"
      ],
      "text/plain": [
       "    session  subject    slide  text        word       response  \\\n",
       "0   186a069  4ba33f7  cc3a8e4    11  apparently  11-apparently   \n",
       "5   186a069  4ba33f7  cc3a8e4    11         law         11-law   \n",
       "9   186a069  4ba33f7  cc3a8e4    11   directive   11-directive   \n",
       "11  186a069  4ba33f7  cc3a8e4    11       faith       11-faith   \n",
       "12  186a069  4ba33f7  cc3a8e4    11      family      11-family   \n",
       "\n",
       "    cooccurrence.predictions  posterior.predictions  \n",
       "0                   0.000351               0.000114  \n",
       "5                   0.003014               0.009909  \n",
       "9                   0.001635               0.004320  \n",
       "11                  0.000510               0.000932  \n",
       "12                  0.001329               0.001698  "
      ]
     },
     "execution_count": 18,
     "metadata": {},
     "output_type": "execute_result"
    }
   ],
   "source": [
    "Df['recall']['posterior.predictions'] = map(pp.get, Df['recall']['response'])\n",
    "\n",
    "Df['recall'].head()"
   ]
  },
  {
   "cell_type": "markdown",
   "metadata": {
    "deletable": true,
    "editable": true
   },
   "source": [
    "## Load up the associations data"
   ]
  },
  {
   "cell_type": "code",
   "execution_count": 19,
   "metadata": {
    "collapsed": true,
    "deletable": true,
    "editable": true
   },
   "outputs": [],
   "source": [
    "def reset_min_value(column):\n",
    "    \n",
    "    values = column.values\n",
    "    \n",
    "    nonzero_index = values > 0.0\n",
    "    zero_index = values == 0.0\n",
    "    \n",
    "    min_value = numpy.min(values[nonzero_index])\n",
    "    \n",
    "    values[zero_index] = min_value\n",
    "    \n",
    "    return values"
   ]
  },
  {
   "cell_type": "code",
   "execution_count": 20,
   "metadata": {
    "collapsed": true,
    "deletable": true,
    "editable": true
   },
   "outputs": [],
   "source": [
    "with open('_cache/associations_predictions.pkl', 'rb') as f:\n",
    "    associations = pickle.load(f)"
   ]
  },
  {
   "cell_type": "code",
   "execution_count": 21,
   "metadata": {
    "collapsed": false,
    "deletable": true,
    "editable": true
   },
   "outputs": [
    {
     "data": {
      "text/html": [
       "<div>\n",
       "<table border=\"1\" class=\"dataframe\">\n",
       "  <thead>\n",
       "    <tr style=\"text-align: right;\">\n",
       "      <th></th>\n",
       "      <th>session</th>\n",
       "      <th>subject</th>\n",
       "      <th>slide</th>\n",
       "      <th>text</th>\n",
       "      <th>word</th>\n",
       "      <th>response</th>\n",
       "      <th>cooccurrence.predictions</th>\n",
       "      <th>posterior.predictions</th>\n",
       "      <th>association.predictions</th>\n",
       "    </tr>\n",
       "  </thead>\n",
       "  <tbody>\n",
       "    <tr>\n",
       "      <th>0</th>\n",
       "      <td>186a069</td>\n",
       "      <td>4ba33f7</td>\n",
       "      <td>cc3a8e4</td>\n",
       "      <td>11</td>\n",
       "      <td>apparently</td>\n",
       "      <td>11-apparently</td>\n",
       "      <td>0.000351</td>\n",
       "      <td>0.000114</td>\n",
       "      <td>0.000000</td>\n",
       "    </tr>\n",
       "    <tr>\n",
       "      <th>5</th>\n",
       "      <td>186a069</td>\n",
       "      <td>4ba33f7</td>\n",
       "      <td>cc3a8e4</td>\n",
       "      <td>11</td>\n",
       "      <td>law</td>\n",
       "      <td>11-law</td>\n",
       "      <td>0.003014</td>\n",
       "      <td>0.009909</td>\n",
       "      <td>0.004548</td>\n",
       "    </tr>\n",
       "    <tr>\n",
       "      <th>9</th>\n",
       "      <td>186a069</td>\n",
       "      <td>4ba33f7</td>\n",
       "      <td>cc3a8e4</td>\n",
       "      <td>11</td>\n",
       "      <td>directive</td>\n",
       "      <td>11-directive</td>\n",
       "      <td>0.001635</td>\n",
       "      <td>0.004320</td>\n",
       "      <td>0.000000</td>\n",
       "    </tr>\n",
       "    <tr>\n",
       "      <th>11</th>\n",
       "      <td>186a069</td>\n",
       "      <td>4ba33f7</td>\n",
       "      <td>cc3a8e4</td>\n",
       "      <td>11</td>\n",
       "      <td>faith</td>\n",
       "      <td>11-faith</td>\n",
       "      <td>0.000510</td>\n",
       "      <td>0.000932</td>\n",
       "      <td>0.000000</td>\n",
       "    </tr>\n",
       "    <tr>\n",
       "      <th>12</th>\n",
       "      <td>186a069</td>\n",
       "      <td>4ba33f7</td>\n",
       "      <td>cc3a8e4</td>\n",
       "      <td>11</td>\n",
       "      <td>family</td>\n",
       "      <td>11-family</td>\n",
       "      <td>0.001329</td>\n",
       "      <td>0.001698</td>\n",
       "      <td>0.000902</td>\n",
       "    </tr>\n",
       "  </tbody>\n",
       "</table>\n",
       "</div>"
      ],
      "text/plain": [
       "    session  subject    slide  text        word       response  \\\n",
       "0   186a069  4ba33f7  cc3a8e4    11  apparently  11-apparently   \n",
       "5   186a069  4ba33f7  cc3a8e4    11         law         11-law   \n",
       "9   186a069  4ba33f7  cc3a8e4    11   directive   11-directive   \n",
       "11  186a069  4ba33f7  cc3a8e4    11       faith       11-faith   \n",
       "12  186a069  4ba33f7  cc3a8e4    11      family      11-family   \n",
       "\n",
       "    cooccurrence.predictions  posterior.predictions  association.predictions  \n",
       "0                   0.000351               0.000114                 0.000000  \n",
       "5                   0.003014               0.009909                 0.004548  \n",
       "9                   0.001635               0.004320                 0.000000  \n",
       "11                  0.000510               0.000932                 0.000000  \n",
       "12                  0.001329               0.001698                 0.000902  "
      ]
     },
     "execution_count": 21,
     "metadata": {},
     "output_type": "execute_result"
    }
   ],
   "source": [
    "Df['recall']['association.predictions'] = map(associations.get, Df['recall']['response'])\n",
    "\n",
    "Df['recall'].head()"
   ]
  },
  {
   "cell_type": "code",
   "execution_count": 22,
   "metadata": {
    "collapsed": false,
    "deletable": true,
    "editable": true
   },
   "outputs": [],
   "source": [
    "Df['recall']['association.predictions'] = reset_min_value(Df['recall']['association.predictions'])"
   ]
  },
  {
   "cell_type": "markdown",
   "metadata": {
    "deletable": true,
    "editable": true
   },
   "source": [
    "## Calculate the log likelihoods of the three models"
   ]
  },
  {
   "cell_type": "code",
   "execution_count": 23,
   "metadata": {
    "collapsed": false,
    "deletable": true,
    "editable": true
   },
   "outputs": [
    {
     "data": {
      "text/plain": [
       "-15100.941676746428"
      ]
     },
     "execution_count": 23,
     "metadata": {},
     "output_type": "execute_result"
    }
   ],
   "source": [
    "numpy.log(Df['recall']['cooccurrence.predictions']).sum()"
   ]
  },
  {
   "cell_type": "code",
   "execution_count": 24,
   "metadata": {
    "collapsed": false,
    "deletable": true,
    "editable": true
   },
   "outputs": [
    {
     "data": {
      "text/plain": [
       "-14109.015920522565"
      ]
     },
     "execution_count": 24,
     "metadata": {},
     "output_type": "execute_result"
    }
   ],
   "source": [
    "numpy.log(Df['recall']['posterior.predictions']).sum()"
   ]
  },
  {
   "cell_type": "code",
   "execution_count": 25,
   "metadata": {
    "collapsed": false,
    "deletable": true,
    "editable": true
   },
   "outputs": [
    {
     "data": {
      "text/plain": [
       "-16039.979092976409"
      ]
     },
     "execution_count": 25,
     "metadata": {},
     "output_type": "execute_result"
    }
   ],
   "source": [
    "numpy.log(Df['recall']['association.predictions']).sum()"
   ]
  },
  {
   "cell_type": "markdown",
   "metadata": {
    "deletable": true,
    "editable": true
   },
   "source": [
    "## Load up recognition data"
   ]
  },
  {
   "cell_type": "code",
   "execution_count": 26,
   "metadata": {
    "collapsed": true,
    "deletable": true,
    "editable": true
   },
   "outputs": [],
   "source": [
    "Df['recognition'] = pandas.read_pickle('_cache/brisbane_06b643a_recognition_results.pkl')"
   ]
  },
  {
   "cell_type": "code",
   "execution_count": 27,
   "metadata": {
    "collapsed": false,
    "deletable": true,
    "editable": true
   },
   "outputs": [
    {
     "data": {
      "text/html": [
       "<div>\n",
       "<table border=\"1\" class=\"dataframe\">\n",
       "  <thead>\n",
       "    <tr style=\"text-align: right;\">\n",
       "      <th></th>\n",
       "      <th>subject</th>\n",
       "      <th>slide</th>\n",
       "      <th>stimulus</th>\n",
       "      <th>text</th>\n",
       "      <th>word</th>\n",
       "      <th>expected</th>\n",
       "      <th>response</th>\n",
       "      <th>correct</th>\n",
       "      <th>rt</th>\n",
       "    </tr>\n",
       "  </thead>\n",
       "  <tbody>\n",
       "    <tr>\n",
       "      <th>0</th>\n",
       "      <td>4ba33f7</td>\n",
       "      <td>4888042</td>\n",
       "      <td>45-purple</td>\n",
       "      <td>45</td>\n",
       "      <td>purple</td>\n",
       "      <td>True</td>\n",
       "      <td>True</td>\n",
       "      <td>True</td>\n",
       "      <td>1.002</td>\n",
       "    </tr>\n",
       "    <tr>\n",
       "      <th>1</th>\n",
       "      <td>4ba33f7</td>\n",
       "      <td>4888042</td>\n",
       "      <td>45-tastefully</td>\n",
       "      <td>45</td>\n",
       "      <td>tastefully</td>\n",
       "      <td>False</td>\n",
       "      <td>False</td>\n",
       "      <td>True</td>\n",
       "      <td>0.917</td>\n",
       "    </tr>\n",
       "    <tr>\n",
       "      <th>2</th>\n",
       "      <td>4ba33f7</td>\n",
       "      <td>4888042</td>\n",
       "      <td>45-cataract</td>\n",
       "      <td>45</td>\n",
       "      <td>cataract</td>\n",
       "      <td>True</td>\n",
       "      <td>True</td>\n",
       "      <td>True</td>\n",
       "      <td>1.199</td>\n",
       "    </tr>\n",
       "    <tr>\n",
       "      <th>3</th>\n",
       "      <td>4ba33f7</td>\n",
       "      <td>4888042</td>\n",
       "      <td>45-sack</td>\n",
       "      <td>45</td>\n",
       "      <td>sack</td>\n",
       "      <td>True</td>\n",
       "      <td>True</td>\n",
       "      <td>True</td>\n",
       "      <td>0.710</td>\n",
       "    </tr>\n",
       "    <tr>\n",
       "      <th>4</th>\n",
       "      <td>4ba33f7</td>\n",
       "      <td>4888042</td>\n",
       "      <td>45-relic</td>\n",
       "      <td>45</td>\n",
       "      <td>relic</td>\n",
       "      <td>False</td>\n",
       "      <td>False</td>\n",
       "      <td>True</td>\n",
       "      <td>1.040</td>\n",
       "    </tr>\n",
       "  </tbody>\n",
       "</table>\n",
       "</div>"
      ],
      "text/plain": [
       "   subject    slide       stimulus  text        word expected response  \\\n",
       "0  4ba33f7  4888042      45-purple    45      purple     True     True   \n",
       "1  4ba33f7  4888042  45-tastefully    45  tastefully    False    False   \n",
       "2  4ba33f7  4888042    45-cataract    45    cataract     True     True   \n",
       "3  4ba33f7  4888042        45-sack    45        sack     True     True   \n",
       "4  4ba33f7  4888042       45-relic    45       relic    False    False   \n",
       "\n",
       "  correct     rt  \n",
       "0    True  1.002  \n",
       "1    True  0.917  \n",
       "2    True  1.199  \n",
       "3    True  0.710  \n",
       "4    True  1.040  "
      ]
     },
     "execution_count": 27,
     "metadata": {},
     "output_type": "execute_result"
    }
   ],
   "source": [
    "Df['recognition'].head()"
   ]
  },
  {
   "cell_type": "code",
   "execution_count": 28,
   "metadata": {
    "collapsed": true,
    "deletable": true,
    "editable": true
   },
   "outputs": [],
   "source": [
    "Df['recognition']['cooccurrence.predictions'] = map(cooccurrence_predictions.get, Df['recognition']['stimulus'])\n",
    "Df['recognition']['cooccurrence.predictions'] = reset_min_value(Df['recognition']['cooccurrence.predictions'])"
   ]
  },
  {
   "cell_type": "code",
   "execution_count": 29,
   "metadata": {
    "collapsed": false,
    "deletable": true,
    "editable": true
   },
   "outputs": [],
   "source": [
    "Df['recognition']['posterior.predictions'] = map(pp.get, Df['recognition']['stimulus'])"
   ]
  },
  {
   "cell_type": "code",
   "execution_count": 30,
   "metadata": {
    "collapsed": true,
    "deletable": true,
    "editable": true
   },
   "outputs": [],
   "source": [
    "Df['recognition']['association.predictions'] = map(associations.get, Df['recognition']['stimulus'])\n",
    "Df['recognition']['association.predictions'] = reset_min_value(Df['recognition']['association.predictions'])"
   ]
  },
  {
   "cell_type": "code",
   "execution_count": 31,
   "metadata": {
    "collapsed": false,
    "deletable": true,
    "editable": true
   },
   "outputs": [
    {
     "data": {
      "text/html": [
       "<div>\n",
       "<table border=\"1\" class=\"dataframe\">\n",
       "  <thead>\n",
       "    <tr style=\"text-align: right;\">\n",
       "      <th></th>\n",
       "      <th>subject</th>\n",
       "      <th>slide</th>\n",
       "      <th>stimulus</th>\n",
       "      <th>text</th>\n",
       "      <th>word</th>\n",
       "      <th>expected</th>\n",
       "      <th>response</th>\n",
       "      <th>correct</th>\n",
       "      <th>rt</th>\n",
       "      <th>cooccurrence.predictions</th>\n",
       "      <th>posterior.predictions</th>\n",
       "      <th>association.predictions</th>\n",
       "    </tr>\n",
       "  </thead>\n",
       "  <tbody>\n",
       "    <tr>\n",
       "      <th>0</th>\n",
       "      <td>4ba33f7</td>\n",
       "      <td>4888042</td>\n",
       "      <td>45-purple</td>\n",
       "      <td>45</td>\n",
       "      <td>purple</td>\n",
       "      <td>True</td>\n",
       "      <td>True</td>\n",
       "      <td>True</td>\n",
       "      <td>1.002</td>\n",
       "      <td>0.000232</td>\n",
       "      <td>0.000303</td>\n",
       "      <td>0.001461</td>\n",
       "    </tr>\n",
       "    <tr>\n",
       "      <th>1</th>\n",
       "      <td>4ba33f7</td>\n",
       "      <td>4888042</td>\n",
       "      <td>45-tastefully</td>\n",
       "      <td>45</td>\n",
       "      <td>tastefully</td>\n",
       "      <td>False</td>\n",
       "      <td>False</td>\n",
       "      <td>True</td>\n",
       "      <td>0.917</td>\n",
       "      <td>0.000013</td>\n",
       "      <td>0.000001</td>\n",
       "      <td>0.000061</td>\n",
       "    </tr>\n",
       "    <tr>\n",
       "      <th>2</th>\n",
       "      <td>4ba33f7</td>\n",
       "      <td>4888042</td>\n",
       "      <td>45-cataract</td>\n",
       "      <td>45</td>\n",
       "      <td>cataract</td>\n",
       "      <td>True</td>\n",
       "      <td>True</td>\n",
       "      <td>True</td>\n",
       "      <td>1.199</td>\n",
       "      <td>0.000142</td>\n",
       "      <td>0.000040</td>\n",
       "      <td>0.000061</td>\n",
       "    </tr>\n",
       "    <tr>\n",
       "      <th>3</th>\n",
       "      <td>4ba33f7</td>\n",
       "      <td>4888042</td>\n",
       "      <td>45-sack</td>\n",
       "      <td>45</td>\n",
       "      <td>sack</td>\n",
       "      <td>True</td>\n",
       "      <td>True</td>\n",
       "      <td>True</td>\n",
       "      <td>0.710</td>\n",
       "      <td>0.000568</td>\n",
       "      <td>0.000223</td>\n",
       "      <td>0.000334</td>\n",
       "    </tr>\n",
       "    <tr>\n",
       "      <th>4</th>\n",
       "      <td>4ba33f7</td>\n",
       "      <td>4888042</td>\n",
       "      <td>45-relic</td>\n",
       "      <td>45</td>\n",
       "      <td>relic</td>\n",
       "      <td>False</td>\n",
       "      <td>False</td>\n",
       "      <td>True</td>\n",
       "      <td>1.040</td>\n",
       "      <td>0.000031</td>\n",
       "      <td>0.000021</td>\n",
       "      <td>0.000061</td>\n",
       "    </tr>\n",
       "  </tbody>\n",
       "</table>\n",
       "</div>"
      ],
      "text/plain": [
       "   subject    slide       stimulus  text        word expected response  \\\n",
       "0  4ba33f7  4888042      45-purple    45      purple     True     True   \n",
       "1  4ba33f7  4888042  45-tastefully    45  tastefully    False    False   \n",
       "2  4ba33f7  4888042    45-cataract    45    cataract     True     True   \n",
       "3  4ba33f7  4888042        45-sack    45        sack     True     True   \n",
       "4  4ba33f7  4888042       45-relic    45       relic    False    False   \n",
       "\n",
       "  correct     rt  cooccurrence.predictions  posterior.predictions  \\\n",
       "0    True  1.002                  0.000232               0.000303   \n",
       "1    True  0.917                  0.000013               0.000001   \n",
       "2    True  1.199                  0.000142               0.000040   \n",
       "3    True  0.710                  0.000568               0.000223   \n",
       "4    True  1.040                  0.000031               0.000021   \n",
       "\n",
       "   association.predictions  \n",
       "0                 0.001461  \n",
       "1                 0.000061  \n",
       "2                 0.000061  \n",
       "3                 0.000334  \n",
       "4                 0.000061  "
      ]
     },
     "execution_count": 31,
     "metadata": {},
     "output_type": "execute_result"
    }
   ],
   "source": [
    "Df['recognition'].head()"
   ]
  },
  {
   "cell_type": "code",
   "execution_count": 32,
   "metadata": {
    "collapsed": false,
    "deletable": true,
    "editable": true
   },
   "outputs": [],
   "source": [
    "Df['recognition'].to_csv('_cache/recognition.csv')"
   ]
  }
 ],
 "metadata": {
  "kernelspec": {
   "display_name": "Python 2",
   "language": "python",
   "name": "python2"
  },
  "language_info": {
   "codemirror_mode": {
    "name": "ipython",
    "version": 2
   },
   "file_extension": ".py",
   "mimetype": "text/x-python",
   "name": "python",
   "nbconvert_exporter": "python",
   "pygments_lexer": "ipython2",
   "version": "2.7.13"
  }
 },
 "nbformat": 4,
 "nbformat_minor": 2
}
